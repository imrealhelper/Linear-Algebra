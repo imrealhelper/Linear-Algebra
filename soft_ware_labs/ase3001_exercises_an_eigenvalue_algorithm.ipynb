{
  "nbformat": 4,
  "nbformat_minor": 0,
  "metadata": {
    "colab": {
      "provenance": [],
      "include_colab_link": true
    },
    "kernelspec": {
      "name": "python3",
      "display_name": "Python 3"
    },
    "language_info": {
      "name": "python"
    }
  },
  "cells": [
    {
      "cell_type": "markdown",
      "metadata": {
        "id": "view-in-github",
        "colab_type": "text"
      },
      "source": [
        "<a href=\"https://colab.research.google.com/github/imrealhelper/Linear-Algebra/blob/main/soft_ware_labs/ase3001_exercises_an_eigenvalue_algorithm.ipynb\" target=\"_parent\"><img src=\"https://colab.research.google.com/assets/colab-badge.svg\" alt=\"Open In Colab\"/></a>"
      ]
    },
    {
      "cell_type": "markdown",
      "source": [
        "# An eigenvalue algorithm\n",
        "\n",
        "$$\n",
        "\\newcommand{\\eg}{{\\it e.g.}}\n",
        "\\newcommand{\\ie}{{\\it i.e.}}\n",
        "\\newcommand{\\argmin}{\\operatornamewithlimits{argmin}}\n",
        "\\newcommand{\\mc}{\\mathcal}\n",
        "\\newcommand{\\mb}{\\mathbb}\n",
        "\\newcommand{\\mf}{\\mathbf}\n",
        "\\newcommand{\\minimize}{{\\text{minimize}}}\n",
        "\\newcommand{\\diag}{{\\text{diag}}}\n",
        "\\newcommand{\\cond}{{\\text{cond}}}\n",
        "\\newcommand{\\rank}{{\\text{rank }}}\n",
        "\\newcommand{\\range}{{\\mathcal{R}}}\n",
        "\\newcommand{\\null}{{\\mathcal{N}}}\n",
        "\\newcommand{\\tr}{{\\text{trace}}}\n",
        "\\newcommand{\\dom}{{\\text{dom}}}\n",
        "\\newcommand{\\dist}{{\\text{dist}}}\n",
        "\\newcommand{\\R}{\\mathbf{R}}\n",
        "\\newcommand{\\SM}{\\mathbf{S}}\n",
        "\\newcommand{\\ball}{\\mathcal{B}}\n",
        "\\newcommand{\\bmat}[1]{\\begin{bmatrix}#1\\end{bmatrix}}\n",
        "\\newcommand{\\loss}{\\ell}\n",
        "\\newcommand{\\eloss}{\\mc{L}}\n",
        "\\newcommand{\\abs}[1]{| #1 |}\n",
        "\\newcommand{\\norm}[1]{\\| #1 \\|}\n",
        "\\newcommand{\\tp}{T}\n",
        "$$"
      ],
      "metadata": {
        "id": "EleoU1xyfPSK"
      }
    },
    {
      "cell_type": "markdown",
      "source": [
        "__<div style=\"text-align: right\"> ASE3001: Computational Experiments for Aerospace Engineering, Inha University. </div>__\n",
        "_<div style=\"text-align: right\"> Jong-Han Kim (jonghank@inha.ac.kr) </div>_"
      ],
      "metadata": {
        "id": "9p8jTEehfbPH"
      }
    },
    {
      "cell_type": "markdown",
      "source": [
        "<br>\n",
        "\n",
        "---\n",
        "\n",
        "We explore an eigenvalue algorithm: given a diagonalizable matrix\n",
        "${\\displaystyle A}$, the algorithm will produce a number\n",
        "${\\displaystyle \\lambda }$, which is the greatest (in absolute value) eigenvalue of ${\\displaystyle A}$, and a nonzero vector ${\\displaystyle v}$, which is a corresponding eigenvector of ${\\displaystyle \\lambda }$, that is,\n",
        "${\\displaystyle Av=\\lambda v}$."
      ],
      "metadata": {
        "id": "A-oPFYoAfkls"
      }
    },
    {
      "cell_type": "markdown",
      "source": [
        "<br>\n",
        "\n",
        "The algorithm starts with a vector\n",
        "${\\displaystyle q_{0}}$, which may be an approximation to the dominant eigenvector or a random vector. The method is described by the recurrence relation\n",
        "\n",
        "$${\\displaystyle q_{k+1}={\\frac {A q_{k}}{\\|A q_{k}\\|}}}$$\n",
        "\n",
        "So, at every iteration, the vector\n",
        "${\\displaystyle q_{k}}$ is multiplied by the matrix\n",
        "${\\displaystyle A}$ and normalized.\n",
        "\n",
        "If we assume\n",
        "${\\displaystyle A}$ has an eigenvalue that is strictly greater in magnitude than its other eigenvalues and the starting vector\n",
        "${\\displaystyle q_{0}}$ has a nonzero component in the direction of an eigenvector associated with the dominant eigenvalue, then a subsequence\n",
        "${\\displaystyle \\left(q_{k}\\right)}$ converges to an eigenvector associated with the dominant eigenvalue.\n",
        "\n",
        "<br>\n",
        "\n",
        "Under the two assumptions listed above, the sequence\n",
        "${\\displaystyle \\left(\\rho _{k}\\right)}$ defined by\n",
        "\n",
        "$${\\displaystyle \\rho_{k}={\\frac {q_{k}^{T}A q_{k}}{q_{k}^{T}q_{k}}}}$$\n",
        "\n",
        "converges to the dominant eigenvalue."
      ],
      "metadata": {
        "id": "x8WHHnwJgXEP"
      }
    },
    {
      "cell_type": "code",
      "source": [
        "import numpy as np\n",
        "\n",
        "np.random.seed(3001)\n",
        "A = np.random.randn(100,100)\n",
        "A = A.T@A\n"
      ],
      "metadata": {
        "id": "i9yKUj78c8m_"
      },
      "execution_count": 2,
      "outputs": []
    },
    {
      "cell_type": "markdown",
      "source": [
        "<br>\n",
        "\n",
        "___\n",
        "\n",
        "<br>\n",
        "\n",
        "**(Problem 1)** Define a function `ase3001_ev_algorithm()` that receives a symmetric matrix $A$ and returns the largest eigenvalue of $A$. Repeat the algorithm until,\n",
        "\n",
        "$$\n",
        "  \\epsilon_{k+1} = | \\rho_{k+1}- \\rho_k | \\le 10^{-6}.\n",
        "$$\n",
        "\n",
        "Report the largest eigenvalue of $A$, and the number of iterations required. Check how rapidly $e_k$ diminishes in a $\\log_{10}$ scale plot."
      ],
      "metadata": {
        "id": "pDXDK4z6jm4k"
      }
    },
    {
      "cell_type": "code",
      "source": [
        "# your code here\n",
        "import matplotlib.pyplot as plt\n",
        "import numpy as np\n",
        "def ase3001_ev_algorithm(A,q_0):\n",
        "  q = q_0\n",
        "  eigen_before=(1/np.linalg.norm(q))*(q.T @ A @ q)\n",
        "  e=10\n",
        "  e_l=[]\n",
        "  while e> 10**(-8):\n",
        "    q_after=A@q/(np.linalg.norm(A@q))\n",
        "    eigen_after=(q_after.T @A@q_after)/(np.linalg.norm(q_after))\n",
        "    e= np.abs(eigen_after-eigen_before)\n",
        "    eigen_before= eigen_after\n",
        "    q=q_after\n",
        "    e_l.append(e)\n",
        "  return eigen_after,q,e_l\n",
        "e,q,es=ase3001_ev_algorithm(A,np.random.randn(len(A)))\n",
        "plt.plot(np.log10(np.array(es)))\n",
        "plt.xlabel(\"iteration\")\n",
        "plt.ylabel(\"error\")\n",
        "plt.legend()\n",
        "plt.show()"
      ],
      "metadata": {
        "id": "IYNoTkXTL5SL",
        "colab": {
          "base_uri": "https://localhost:8080/",
          "height": 488
        },
        "outputId": "3840aa40-8988-4ba8-bf60-a00e8b93806b"
      },
      "execution_count": 19,
      "outputs": [
        {
          "output_type": "stream",
          "name": "stderr",
          "text": [
            "WARNING:matplotlib.legend:No artists with labels found to put in legend.  Note that artists whose label start with an underscore are ignored when legend() is called with no argument.\n"
          ]
        },
        {
          "output_type": "display_data",
          "data": {
            "text/plain": [
              "<Figure size 640x480 with 1 Axes>"
            ],
            "image/png": "[encoded data removed]"
          },
          "metadata": {}
        }
      ]
    },
    {
      "cell_type": "markdown",
      "source": [
        "<br>\n",
        "\n",
        "___\n",
        "\n",
        "<br>\n",
        "\n",
        "**(Problem 2)** Use `ase3001_ev_algorithm()` to find all eigenvalues of $A$. Report all eigenvalues of $A$ and check if your answer is correct.\n",
        "\n"
      ],
      "metadata": {
        "id": "ok4TV30NmuIg"
      }
    },
    {
      "cell_type": "code",
      "source": [
        "np.linalg.eigh(A)"
      ],
      "metadata": {
        "colab": {
          "base_uri": "https://localhost:8080/"
        },
        "id": "KckXtrwurC6V",
        "outputId": "73352a00-56a1-4602-8a10-0e6629513d4a"
      },
      "execution_count": 20,
      "outputs": [
        {
          "output_type": "execute_result",
          "data": {
            "text/plain": [
              "EighResult(eigenvalues=array([1.22042046e-03, 5.41152548e-02, 8.00060141e-02, 2.09627375e-01,\n",
              "       5.17968803e-01, 6.98496478e-01, 1.02894863e+00, 1.15711959e+00,\n",
              "       1.66394653e+00, 2.56169650e+00, 2.68227294e+00, 3.10372577e+00,\n",
              "       4.02381614e+00, 4.74095597e+00, 5.66046396e+00, 6.52218612e+00,\n",
              "       6.84968426e+00, 7.23991650e+00, 8.54678214e+00, 8.63070982e+00,\n",
              "       1.07635401e+01, 1.13643576e+01, 1.19881339e+01, 1.51870247e+01,\n",
              "       1.58105728e+01, 1.59136752e+01, 1.77997560e+01, 1.99680389e+01,\n",
              "       2.13638085e+01, 2.24045416e+01, 2.40715446e+01, 2.61089570e+01,\n",
              "       2.75422942e+01, 2.90656355e+01, 3.00791891e+01, 3.04386758e+01,\n",
              "       3.48135495e+01, 3.71896906e+01, 3.75051370e+01, 3.82235566e+01,\n",
              "       4.06244386e+01, 4.31860389e+01, 4.60795370e+01, 4.67979973e+01,\n",
              "       5.15499556e+01, 5.21239750e+01, 5.85019225e+01, 6.12308189e+01,\n",
              "       6.30816133e+01, 6.41913196e+01, 6.54076891e+01, 7.15761639e+01,\n",
              "       7.41711952e+01, 7.52356666e+01, 7.76353749e+01, 8.15401259e+01,\n",
              "       8.45146752e+01, 8.69347827e+01, 9.00062363e+01, 9.16780185e+01,\n",
              "       9.85655564e+01, 1.04791410e+02, 1.06403864e+02, 1.12018209e+02,\n",
              "       1.12917882e+02, 1.21528851e+02, 1.24044724e+02, 1.28912444e+02,\n",
              "       1.31684889e+02, 1.34865065e+02, 1.39577572e+02, 1.43274267e+02,\n",
              "       1.44676760e+02, 1.50099724e+02, 1.53227381e+02, 1.64711133e+02,\n",
              "       1.69660245e+02, 1.76432003e+02, 1.78476566e+02, 1.86809110e+02,\n",
              "       1.91865341e+02, 1.99066256e+02, 2.01972644e+02, 2.07480240e+02,\n",
              "       2.14208307e+02, 2.16229614e+02, 2.24566780e+02, 2.29355754e+02,\n",
              "       2.41083676e+02, 2.48695013e+02, 2.62639549e+02, 2.79614414e+02,\n",
              "       2.84166721e+02, 2.93836624e+02, 3.01674388e+02, 3.15798044e+02,\n",
              "       3.33049534e+02, 3.46071630e+02, 3.53574473e+02, 3.95885046e+02]), eigenvectors=array([[ 0.04743323, -0.0790127 , -0.00502374, ..., -0.03089721,\n",
              "         0.08025393, -0.00989572],\n",
              "       [ 0.06891089,  0.0310086 , -0.04669345, ..., -0.07669778,\n",
              "         0.16150726, -0.15390771],\n",
              "       [ 0.03753696,  0.01674422,  0.09826929, ..., -0.08106394,\n",
              "         0.07006489, -0.12815634],\n",
              "       ...,\n",
              "       [ 0.13508266,  0.04461998, -0.06791549, ...,  0.0712747 ,\n",
              "         0.0009916 ,  0.11446013],\n",
              "       [ 0.04297215,  0.11578005,  0.14993116, ...,  0.25176539,\n",
              "        -0.1585987 , -0.08673605],\n",
              "       [ 0.33989886, -0.02862013, -0.15724366, ..., -0.02224351,\n",
              "        -0.24428146,  0.05345199]]))"
            ]
          },
          "metadata": {},
          "execution_count": 20
        }
      ]
    },
    {
      "cell_type": "code",
      "source": [
        "# your code here\n",
        "sum_A=A.copy()\n",
        "q_c= np.random.rand(len(A))\n",
        "eigens=[]\n",
        "for i in range(len(A)):\n",
        "  eigen_c, q_c ,es = ase3001_ev_algorithm(sum_A,q_c)\n",
        "  eigens.append(eigen_c)\n",
        "  sum_A= sum_A- eigen_c *np.outer(q_c,q_c)\n"
      ],
      "metadata": {
        "id": "MjlRd0ycxnFH"
      },
      "execution_count": 21,
      "outputs": []
    },
    {
      "cell_type": "code",
      "source": [
        "np.linalg.eigh(A)[0].real"
      ],
      "metadata": {
        "id": "SIcr_g0GD98K",
        "outputId": "e8dcb566-92f4-4ff9-fd68-b6ca3a72aaec",
        "colab": {
          "base_uri": "https://localhost:8080/"
        }
      },
      "execution_count": 22,
      "outputs": [
        {
          "output_type": "execute_result",
          "data": {
            "text/plain": [
              "array([1.22042046e-03, 5.41152548e-02, 8.00060141e-02, 2.09627375e-01,\n",
              "       5.17968803e-01, 6.98496478e-01, 1.02894863e+00, 1.15711959e+00,\n",
              "       1.66394653e+00, 2.56169650e+00, 2.68227294e+00, 3.10372577e+00,\n",
              "       4.02381614e+00, 4.74095597e+00, 5.66046396e+00, 6.52218612e+00,\n",
              "       6.84968426e+00, 7.23991650e+00, 8.54678214e+00, 8.63070982e+00,\n",
              "       1.07635401e+01, 1.13643576e+01, 1.19881339e+01, 1.51870247e+01,\n",
              "       1.58105728e+01, 1.59136752e+01, 1.77997560e+01, 1.99680389e+01,\n",
              "       2.13638085e+01, 2.24045416e+01, 2.40715446e+01, 2.61089570e+01,\n",
              "       2.75422942e+01, 2.90656355e+01, 3.00791891e+01, 3.04386758e+01,\n",
              "       3.48135495e+01, 3.71896906e+01, 3.75051370e+01, 3.82235566e+01,\n",
              "       4.06244386e+01, 4.31860389e+01, 4.60795370e+01, 4.67979973e+01,\n",
              "       5.15499556e+01, 5.21239750e+01, 5.85019225e+01, 6.12308189e+01,\n",
              "       6.30816133e+01, 6.41913196e+01, 6.54076891e+01, 7.15761639e+01,\n",
              "       7.41711952e+01, 7.52356666e+01, 7.76353749e+01, 8.15401259e+01,\n",
              "       8.45146752e+01, 8.69347827e+01, 9.00062363e+01, 9.16780185e+01,\n",
              "       9.85655564e+01, 1.04791410e+02, 1.06403864e+02, 1.12018209e+02,\n",
              "       1.12917882e+02, 1.21528851e+02, 1.24044724e+02, 1.28912444e+02,\n",
              "       1.31684889e+02, 1.34865065e+02, 1.39577572e+02, 1.43274267e+02,\n",
              "       1.44676760e+02, 1.50099724e+02, 1.53227381e+02, 1.64711133e+02,\n",
              "       1.69660245e+02, 1.76432003e+02, 1.78476566e+02, 1.86809110e+02,\n",
              "       1.91865341e+02, 1.99066256e+02, 2.01972644e+02, 2.07480240e+02,\n",
              "       2.14208307e+02, 2.16229614e+02, 2.24566780e+02, 2.29355754e+02,\n",
              "       2.41083676e+02, 2.48695013e+02, 2.62639549e+02, 2.79614414e+02,\n",
              "       2.84166721e+02, 2.93836624e+02, 3.01674388e+02, 3.15798044e+02,\n",
              "       3.33049534e+02, 3.46071630e+02, 3.53574473e+02, 3.95885046e+02])"
            ]
          },
          "metadata": {},
          "execution_count": 22
        }
      ]
    },
    {
      "cell_type": "code",
      "source": [
        "display(np.linalg.eigh(A)[0].real - np.array(sorted(eigens)))"
      ],
      "metadata": {
        "id": "9Xq7wC04GUTB",
        "outputId": "49eb0672-2e13-442e-ce95-fb442ebaf2f1",
        "colab": {
          "base_uri": "https://localhost:8080/",
          "height": 483
        }
      },
      "execution_count": 23,
      "outputs": [
        {
          "output_type": "display_data",
          "data": {
            "text/plain": [
              "array([ 1.22042265e-03, -6.91032426e-09,  3.24549643e-09,  3.82667870e-10,\n",
              "       -1.57332656e-08,  1.17155334e-08, -3.42788096e-08,  2.12209181e-08,\n",
              "        6.41353948e-09, -1.14137352e-07,  9.70033995e-08,  3.12869020e-09,\n",
              "       -2.42429445e-08,  2.14556302e-08,  3.21094529e-09, -9.78187913e-08,\n",
              "        1.04831397e-08,  7.81673473e-08, -5.07255862e-07,  5.02291510e-07,\n",
              "       -1.23059896e-07,  6.88457398e-08,  4.52051445e-08,  2.32596165e-11,\n",
              "       -7.65658802e-07,  7.60690705e-07, -1.47899470e-11, -7.55300391e-08,\n",
              "       -2.40532430e-08,  8.57455085e-08,  4.10113543e-09, -9.24497918e-08,\n",
              "        4.91931473e-09,  7.82699736e-08, -4.31034202e-07,  3.99026586e-07,\n",
              "        2.30921131e-08, -6.13255033e-07,  3.49200853e-07,  1.57971989e-07,\n",
              "        4.53229134e-08,  4.25541913e-08, -3.24433785e-07,  3.16038793e-07,\n",
              "       -4.85367167e-07,  4.42225108e-07, -2.86299411e-08,  5.85790403e-08,\n",
              "       -1.56060061e-07, -1.09996975e-07,  2.60897309e-07, -1.21646337e-09,\n",
              "       -3.47178158e-07,  1.87181186e-07,  1.49202862e-07, -1.83652560e-09,\n",
              "       -1.67915843e-07,  1.65371944e-07, -2.69092496e-07,  2.41763047e-07,\n",
              "        1.97721874e-08, -3.22604308e-07,  3.14024703e-07, -6.24078226e-07,\n",
              "        5.52616541e-07, -1.78662376e-07,  2.34426011e-07, -2.32733498e-07,\n",
              "        2.08413553e-08,  1.82484541e-07,  2.48064964e-08, -5.12869718e-07,\n",
              "        5.07850046e-07, -2.36761025e-07,  1.66401207e-07, -1.01262486e-07,\n",
              "        1.56467678e-07, -4.35105505e-07,  2.63762360e-07,  8.51041193e-08,\n",
              "        6.08338837e-08, -3.89727830e-07,  2.81689864e-07,  1.09981784e-07,\n",
              "       -5.25447319e-07,  5.20116458e-07, -2.28402627e-07,  2.23073584e-07,\n",
              "       -1.54427028e-07,  6.19164950e-08,  3.54452823e-09,  4.05087803e-08,\n",
              "        3.42697035e-08, -2.00293471e-07,  4.42978489e-08,  1.03639877e-07,\n",
              "        3.90647301e-08, -2.58482544e-07,  2.17405329e-07,  3.18121920e-08])"
            ]
          },
          "metadata": {}
        }
      ]
    },
    {
      "cell_type": "code",
      "source": [
        "error =(np.abs(np.array(sorted(eigens))-np.linalg.eigh(A)[0].real ) / np.abs(np.linalg.eigh(A)[0].real))*100\n",
        "plt.plot(error)\n",
        "plt.yscale('log')"
      ],
      "metadata": {
        "colab": {
          "base_uri": "https://localhost:8080/",
          "height": 430
        },
        "id": "HPnb6spntIRU",
        "outputId": "a50be75a-4575-4ae7-d4f4-0b29d02f5712"
      },
      "execution_count": 24,
      "outputs": [
        {
          "output_type": "display_data",
          "data": {
            "text/plain": [
              "<Figure size 640x480 with 1 Axes>"
            ],
            "image/png": "[encoded data removed]"
          },
          "metadata": {}
        }
      ]
    }
  ]
}