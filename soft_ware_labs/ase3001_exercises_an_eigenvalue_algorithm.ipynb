{
  "nbformat": 4,
  "nbformat_minor": 0,
  "metadata": {
    "colab": {
      "provenance": [],
      "include_colab_link": true
    },
    "kernelspec": {
      "name": "python3",
      "display_name": "Python 3"
    },
    "language_info": {
      "name": "python"
    }
  },
  "cells": [
    {
      "cell_type": "markdown",
      "metadata": {
        "id": "view-in-github",
        "colab_type": "text"
      },
      "source": [
        "<a href=\"https://colab.research.google.com/github/imrealhelper/Linear-Algebra/blob/main/soft_ware_labs/ase3001_exercises_an_eigenvalue_algorithm.ipynb\" target=\"_parent\"><img src=\"https://colab.research.google.com/assets/colab-badge.svg\" alt=\"Open In Colab\"/></a>"
      ]
    },
    {
      "cell_type": "markdown",
      "source": [
        "# An eigenvalue algorithm\n",
        "\n",
        "$$\n",
        "\\newcommand{\\eg}{{\\it e.g.}}\n",
        "\\newcommand{\\ie}{{\\it i.e.}}\n",
        "\\newcommand{\\argmin}{\\operatornamewithlimits{argmin}}\n",
        "\\newcommand{\\mc}{\\mathcal}\n",
        "\\newcommand{\\mb}{\\mathbb}\n",
        "\\newcommand{\\mf}{\\mathbf}\n",
        "\\newcommand{\\minimize}{{\\text{minimize}}}\n",
        "\\newcommand{\\diag}{{\\text{diag}}}\n",
        "\\newcommand{\\cond}{{\\text{cond}}}\n",
        "\\newcommand{\\rank}{{\\text{rank }}}\n",
        "\\newcommand{\\range}{{\\mathcal{R}}}\n",
        "\\newcommand{\\null}{{\\mathcal{N}}}\n",
        "\\newcommand{\\tr}{{\\text{trace}}}\n",
        "\\newcommand{\\dom}{{\\text{dom}}}\n",
        "\\newcommand{\\dist}{{\\text{dist}}}\n",
        "\\newcommand{\\R}{\\mathbf{R}}\n",
        "\\newcommand{\\SM}{\\mathbf{S}}\n",
        "\\newcommand{\\ball}{\\mathcal{B}}\n",
        "\\newcommand{\\bmat}[1]{\\begin{bmatrix}#1\\end{bmatrix}}\n",
        "\\newcommand{\\loss}{\\ell}\n",
        "\\newcommand{\\eloss}{\\mc{L}}\n",
        "\\newcommand{\\abs}[1]{| #1 |}\n",
        "\\newcommand{\\norm}[1]{\\| #1 \\|}\n",
        "\\newcommand{\\tp}{T}\n",
        "$$"
      ],
      "metadata": {
        "id": "EleoU1xyfPSK"
      }
    },
    {
      "cell_type": "markdown",
      "source": [
        "__<div style=\"text-align: right\"> ASE3001: Computational Experiments for Aerospace Engineering, Inha University. </div>__\n",
        "_<div style=\"text-align: right\"> Jong-Han Kim (jonghank@inha.ac.kr) </div>_"
      ],
      "metadata": {
        "id": "9p8jTEehfbPH"
      }
    },
    {
      "cell_type": "markdown",
      "source": [
        "<br>\n",
        "\n",
        "---\n",
        "\n",
        "We explore an eigenvalue algorithm: given a diagonalizable matrix\n",
        "${\\displaystyle A}$, the algorithm will produce a number\n",
        "${\\displaystyle \\lambda }$, which is the greatest (in absolute value) eigenvalue of ${\\displaystyle A}$, and a nonzero vector ${\\displaystyle v}$, which is a corresponding eigenvector of ${\\displaystyle \\lambda }$, that is,\n",
        "${\\displaystyle Av=\\lambda v}$."
      ],
      "metadata": {
        "id": "A-oPFYoAfkls"
      }
    },
    {
      "cell_type": "markdown",
      "source": [
        "<br>\n",
        "\n",
        "The algorithm starts with a vector\n",
        "${\\displaystyle q_{0}}$, which may be an approximation to the dominant eigenvector or a random vector. The method is described by the recurrence relation\n",
        "\n",
        "$${\\displaystyle q_{k+1}={\\frac {A q_{k}}{\\|A q_{k}\\|}}}$$\n",
        "\n",
        "So, at every iteration, the vector\n",
        "${\\displaystyle q_{k}}$ is multiplied by the matrix\n",
        "${\\displaystyle A}$ and normalized.\n",
        "\n",
        "If we assume\n",
        "${\\displaystyle A}$ has an eigenvalue that is strictly greater in magnitude than its other eigenvalues and the starting vector\n",
        "${\\displaystyle q_{0}}$ has a nonzero component in the direction of an eigenvector associated with the dominant eigenvalue, then a subsequence\n",
        "${\\displaystyle \\left(q_{k}\\right)}$ converges to an eigenvector associated with the dominant eigenvalue.\n",
        "\n",
        "<br>\n",
        "\n",
        "Under the two assumptions listed above, the sequence\n",
        "${\\displaystyle \\left(\\rho _{k}\\right)}$ defined by\n",
        "\n",
        "$${\\displaystyle \\rho_{k}={\\frac {q_{k}^{T}A q_{k}}{q_{k}^{T}q_{k}}}}$$\n",
        "\n",
        "converges to the dominant eigenvalue."
      ],
      "metadata": {
        "id": "x8WHHnwJgXEP"
      }
    },
    {
      "cell_type": "code",
      "source": [
        "import numpy as np\n",
        "\n",
        "np.random.seed(3001)\n",
        "A = np.random.randn(100,100)\n",
        "A = A.T@A\n"
      ],
      "metadata": {
        "id": "i9yKUj78c8m_"
      },
      "execution_count": 136,
      "outputs": []
    },
    {
      "cell_type": "markdown",
      "source": [
        "<br>\n",
        "\n",
        "___\n",
        "\n",
        "<br>\n",
        "\n",
        "**(Problem 1)** Define a function `ase3001_ev_algorithm()` that receives a symmetric matrix $A$ and returns the largest eigenvalue of $A$. Repeat the algorithm until,\n",
        "\n",
        "$$\n",
        "  \\epsilon_{k+1} = | \\rho_{k+1}- \\rho_k | \\le 10^{-6}.\n",
        "$$\n",
        "\n",
        "Report the largest eigenvalue of $A$, and the number of iterations required. Check how rapidly $e_k$ diminishes in a $\\log_{10}$ scale plot."
      ],
      "metadata": {
        "id": "pDXDK4z6jm4k"
      }
    },
    {
      "cell_type": "code",
      "source": [
        "# your code here\n",
        "import matplotlib.pyplot as plt\n",
        "import numpy as np\n",
        "def ase3001_ev_algorithm(A,q_0):\n",
        "  q = q_0\n",
        "  eigen_before=(1/np.linalg.norm(q))*(q.T @ A @ q)\n",
        "  e=10\n",
        "  e_l=[]\n",
        "  while e> 10**(-8):\n",
        "    q_after=A@q/(np.linalg.norm(A@q))\n",
        "    eigen_after=(q_after.T @A@q_after)/(np.linalg.norm(q_after))\n",
        "    e= np.abs(eigen_after-eigen_before)\n",
        "    eigen_before= eigen_after\n",
        "    q=q_after\n",
        "    e_l.append(e)\n",
        "  return eigen_after,q,e_l\n",
        "e,q,es=ase3001_ev_algorithm(A,np.random.randn(len(A)))\n",
        "plt.plot(np.log10(np.array(es)))\n",
        "plt.xlabel(\"iteration\")\n",
        "plt.ylabel(\"error\")\n",
        "plt.legend()\n",
        "plt.show()"
      ],
      "metadata": {
        "id": "IYNoTkXTL5SL",
        "colab": {
          "base_uri": "https://localhost:8080/",
          "height": 487
        },
        "outputId": "e9f30529-0ec0-4b43-e10c-f89d395aea8d"
      },
      "execution_count": 137,
      "outputs": [
        {
          "output_type": "stream",
          "name": "stderr",
          "text": [
            "WARNING:matplotlib.legend:No artists with labels found to put in legend.  Note that artists whose label start with an underscore are ignored when legend() is called with no argument.\n"
          ]
        },
        {
          "output_type": "display_data",
          "data": {
            "text/plain": [
              "<Figure size 640x480 with 1 Axes>"
            ],
            "image/png": "[encoded data removed]"
          },
          "metadata": {}
        }
      ]
    },
    {
      "cell_type": "markdown",
      "source": [
        "<br>\n",
        "\n",
        "___\n",
        "\n",
        "<br>\n",
        "\n",
        "**(Problem 2)** Use `ase3001_ev_algorithm()` to find all eigenvalues of $A$. Report all eigenvalues of $A$ and check if your answer is correct.\n",
        "\n"
      ],
      "metadata": {
        "id": "ok4TV30NmuIg"
      }
    },
    {
      "cell_type": "code",
      "source": [
        "np.linalg.eigh(A)"
      ],
      "metadata": {
        "colab": {
          "base_uri": "https://localhost:8080/"
        },
        "id": "KckXtrwurC6V",
        "outputId": "dab09873-6b92-45b0-8d63-1f5cacefcccb"
      },
      "execution_count": 138,
      "outputs": [
        {
          "output_type": "execute_result",
          "data": {
            "text/plain": [
              "EighResult(eigenvalues=array([1.22042046e-03, 5.41152548e-02, 8.00060141e-02, 2.09627375e-01,\n",
              "       5.17968803e-01, 6.98496478e-01, 1.02894863e+00, 1.15711959e+00,\n",
              "       1.66394653e+00, 2.56169650e+00, 2.68227294e+00, 3.10372577e+00,\n",
              "       4.02381614e+00, 4.74095597e+00, 5.66046396e+00, 6.52218612e+00,\n",
              "       6.84968426e+00, 7.23991650e+00, 8.54678214e+00, 8.63070982e+00,\n",
              "       1.07635401e+01, 1.13643576e+01, 1.19881339e+01, 1.51870247e+01,\n",
              "       1.58105728e+01, 1.59136752e+01, 1.77997560e+01, 1.99680389e+01,\n",
              "       2.13638085e+01, 2.24045416e+01, 2.40715446e+01, 2.61089570e+01,\n",
              "       2.75422942e+01, 2.90656355e+01, 3.00791891e+01, 3.04386758e+01,\n",
              "       3.48135495e+01, 3.71896906e+01, 3.75051370e+01, 3.82235566e+01,\n",
              "       4.06244386e+01, 4.31860389e+01, 4.60795370e+01, 4.67979973e+01,\n",
              "       5.15499556e+01, 5.21239750e+01, 5.85019225e+01, 6.12308189e+01,\n",
              "       6.30816133e+01, 6.41913196e+01, 6.54076891e+01, 7.15761639e+01,\n",
              "       7.41711952e+01, 7.52356666e+01, 7.76353749e+01, 8.15401259e+01,\n",
              "       8.45146752e+01, 8.69347827e+01, 9.00062363e+01, 9.16780185e+01,\n",
              "       9.85655564e+01, 1.04791410e+02, 1.06403864e+02, 1.12018209e+02,\n",
              "       1.12917882e+02, 1.21528851e+02, 1.24044724e+02, 1.28912444e+02,\n",
              "       1.31684889e+02, 1.34865065e+02, 1.39577572e+02, 1.43274267e+02,\n",
              "       1.44676760e+02, 1.50099724e+02, 1.53227381e+02, 1.64711133e+02,\n",
              "       1.69660245e+02, 1.76432003e+02, 1.78476566e+02, 1.86809110e+02,\n",
              "       1.91865341e+02, 1.99066256e+02, 2.01972644e+02, 2.07480240e+02,\n",
              "       2.14208307e+02, 2.16229614e+02, 2.24566780e+02, 2.29355754e+02,\n",
              "       2.41083676e+02, 2.48695013e+02, 2.62639549e+02, 2.79614414e+02,\n",
              "       2.84166721e+02, 2.93836624e+02, 3.01674388e+02, 3.15798044e+02,\n",
              "       3.33049534e+02, 3.46071630e+02, 3.53574473e+02, 3.95885046e+02]), eigenvectors=array([[ 0.04743323, -0.0790127 , -0.00502374, ..., -0.03089721,\n",
              "         0.08025393, -0.00989572],\n",
              "       [ 0.06891089,  0.0310086 , -0.04669345, ..., -0.07669778,\n",
              "         0.16150726, -0.15390771],\n",
              "       [ 0.03753696,  0.01674422,  0.09826929, ..., -0.08106394,\n",
              "         0.07006489, -0.12815634],\n",
              "       ...,\n",
              "       [ 0.13508266,  0.04461998, -0.06791549, ...,  0.0712747 ,\n",
              "         0.0009916 ,  0.11446013],\n",
              "       [ 0.04297215,  0.11578005,  0.14993116, ...,  0.25176539,\n",
              "        -0.1585987 , -0.08673605],\n",
              "       [ 0.33989886, -0.02862013, -0.15724366, ..., -0.02224351,\n",
              "        -0.24428146,  0.05345199]]))"
            ]
          },
          "metadata": {},
          "execution_count": 138
        }
      ]
    },
    {
      "cell_type": "code",
      "source": [
        "# your code here\n",
        "sum_A=A.copy()\n",
        "q_c= np.random.rand(len(A))\n",
        "eigens=[]\n",
        "for i in range(len(A)):\n",
        "  eigen_c, q_c ,es = ase3001_ev_algorithm(sum_A,q_c)\n",
        "  eigens.append(eigen_c)\n",
        "  sum_A= sum_A- eigen_c *np.outer(q_c,q_c)\n"
      ],
      "metadata": {
        "id": "MjlRd0ycxnFH"
      },
      "execution_count": 140,
      "outputs": []
    },
    {
      "cell_type": "code",
      "source": [
        "print(np.array(sorted(eigens))-np.linalg.eigh(A)[0])"
      ],
      "metadata": {
        "colab": {
          "base_uri": "https://localhost:8080/"
        },
        "id": "HPnb6spntIRU",
        "outputId": "a9cb7ca4-40a3-41e6-c0b7-0680e3f70ba1"
      },
      "execution_count": 141,
      "outputs": [
        {
          "output_type": "stream",
          "name": "stdout",
          "text": [
            "[-1.22042397e-03  1.08811608e-08 -7.35986583e-09  4.52006638e-09\n",
            "  1.13155491e-08 -9.74741565e-09  4.11800114e-08 -2.94697873e-08\n",
            " -4.94728747e-09  1.04990145e-07 -7.36610177e-08 -2.29594801e-08\n",
            "  2.81415833e-08 -2.37243114e-10 -1.96204866e-08  1.32785690e-07\n",
            " -7.64348593e-08 -4.68623957e-08  5.03429465e-07 -4.98336187e-07\n",
            "  2.78286016e-09  9.16432921e-08 -7.46815498e-08 -7.43137996e-09\n",
            "  8.04474501e-07 -7.62095430e-07 -3.56821310e-08  7.40515134e-08\n",
            "  3.36596564e-08 -9.78083428e-08 -2.86945578e-10  8.82176252e-08\n",
            " -8.29448723e-08 -2.87975865e-10  4.19309185e-07 -3.79358116e-07\n",
            " -2.92757321e-08  5.85555981e-07 -3.18899289e-07 -1.74860389e-07\n",
            "  3.29932703e-09 -6.88140318e-08  3.19018525e-07 -3.13554139e-07\n",
            "  4.50833312e-07 -4.04129523e-07 -3.19879234e-08 -8.39353476e-09\n",
            "  2.86295929e-07 -1.26413084e-08 -2.11045943e-07 -4.54182896e-08\n",
            "  4.04570471e-07 -2.70413040e-07 -1.17797669e-07  1.30332111e-07\n",
            " -1.31246509e-07 -5.04620346e-09  2.67274842e-07 -1.93648759e-07\n",
            " -6.38687112e-08  3.20743965e-07 -3.15625428e-07  6.66645377e-07\n",
            " -6.02124956e-07  1.81095217e-07 -2.29027421e-07  2.33037468e-07\n",
            " -1.29451223e-08 -6.84795225e-08 -1.28026500e-07  5.12979028e-07\n",
            " -4.97055709e-07  2.45435444e-07 -1.51417709e-07 -5.82248276e-08\n",
            " -1.96897929e-08  4.31550575e-07 -3.09408051e-07 -9.91659590e-08\n",
            " -1.23463337e-08  3.42897152e-07 -3.32177365e-07 -2.42651197e-08\n",
            "  5.25785651e-07 -3.91010445e-07  1.04805480e-07 -2.25050854e-07\n",
            "  1.59529321e-07 -7.03822707e-08 -7.97759867e-08  3.09218706e-07\n",
            " -1.60003026e-07  4.80287667e-08 -3.29990826e-08 -9.95196956e-08\n",
            " -4.10645384e-08  2.46468630e-07 -2.06128107e-07 -3.14875592e-08]\n"
          ]
        }
      ]
    }
  ]
}