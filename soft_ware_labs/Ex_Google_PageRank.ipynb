{
  "nbformat": 4,
  "nbformat_minor": 0,
  "metadata": {
    "colab": {
      "name": "Ex_Google_PageRank.ipynb",
      "provenance": [],
      "include_colab_link": true
    },
    "kernelspec": {
      "display_name": "Python 3",
      "language": "python",
      "name": "python3"
    }
  },
  "cells": [
    {
      "cell_type": "markdown",
      "metadata": {
        "id": "view-in-github",
        "colab_type": "text"
      },
      "source": [
        "<a href=\"https://colab.research.google.com/github/imrealhelper/Linear-Algebra/blob/main/soft_ware_labs/Ex_Google_PageRank.ipynb\" target=\"_parent\"><img src=\"https://colab.research.google.com/assets/colab-badge.svg\" alt=\"Open In Colab\"/></a>"
      ]
    },
    {
      "cell_type": "markdown",
      "metadata": {
        "id": "7gI-cY4cmMoZ"
      },
      "source": [
        "# Ex) Google PageRank\n",
        "\n",
        "$$\n",
        "\\newcommand{\\eg}{{\\it e.g.}}\n",
        "\\newcommand{\\ie}{{\\it i.e.}}\n",
        "\\newcommand{\\argmin}{\\operatornamewithlimits{argmin}}\n",
        "\\newcommand{\\mc}{\\mathcal}\n",
        "\\newcommand{\\mb}{\\mathbb}\n",
        "\\newcommand{\\mf}{\\mathbf}\n",
        "\\newcommand{\\minimize}{{\\text{minimize}}}\n",
        "\\newcommand{\\diag}{{\\text{diag}}}\n",
        "\\newcommand{\\cond}{{\\text{cond}}}\n",
        "\\newcommand{\\rank}{{\\text{rank }}}\n",
        "\\newcommand{\\range}{{\\mathcal{R}}}\n",
        "\\newcommand{\\null}{{\\mathcal{N}}}\n",
        "\\newcommand{\\tr}{{\\text{trace}}}\n",
        "\\newcommand{\\dom}{{\\text{dom}}}\n",
        "\\newcommand{\\dist}{{\\text{dist}}}\n",
        "\\newcommand{\\R}{\\mathbf{R}}\n",
        "\\newcommand{\\SM}{\\mathbf{S}}\n",
        "\\newcommand{\\ball}{\\mathcal{B}}\n",
        "\\newcommand{\\bmat}[1]{\\begin{bmatrix}#1\\end{bmatrix}}\n",
        "$$"
      ]
    },
    {
      "cell_type": "markdown",
      "metadata": {
        "id": "2Y1dQ8F_mMob"
      },
      "source": [
        "__<div style=\"text-align: right\"> EE370: Software lab, Kyung Hee University. </div>__\n",
        "_<div style=\"text-align: right\"> Jong-Han Kim (jonghank@khu.ac.kr) </div>_\n",
        "\n"
      ]
    },
    {
      "cell_type": "markdown",
      "metadata": {
        "id": "xqmylL4LJqjg"
      },
      "source": [
        "The Google PageRank, named after Larry Page, one of the co-founders of Google, is an algorithm that ranks the webpages based on the hyperlink connections of the webpages on relevant topics, hence the Google search can return the list of the webpages in an appropriate order of the PageRank indices.\n",
        "\n",
        "According to Google, the PageRank works by counting the number and quality of links to a page to determine a rough estimate of how important the website is. The underlying assumption is that more important websites are likely to receive more links from other websites.\n",
        "\n",
        "  <img src=\"https://upload.wikimedia.org/wikipedia/en/8/8b/PageRanks-Example.jpg\" width=\"500\">"
      ]
    },
    {
      "cell_type": "markdown",
      "metadata": {
        "id": "c3aq7W6e-eKk"
      },
      "source": [
        "The PageRank algorithm outputs a probability distribution used to represent the likelihood that a person randomly clicking on links will arrive at any particular page.\n",
        "\n",
        "Suppose there are $n$ webpages on a specific topic, where some of them have hyperlinks to others. Then the PageRank of the webpage $i$, $p_i$, can be represented by\n",
        "\n",
        "$$\n",
        "  p_i = \\frac{1-\\zeta}{n} + \\sum_{j\\in\\mc{N}_i} \\zeta\\frac{p_j}{d_j}\n",
        "$$\n",
        "\n",
        "where\n",
        "- $d_j$ is the number of outbound links from the webpage $j$\n",
        "- $\\mc{N}_i$ is the set of webpages that have the outbound links to the webpage $i$\n",
        "- $\\zeta>0$ is the damping factor, which can be interpreted as the probability that a person is not satisfied with the current webpage and clinks on the links to the other pages, and we normally set $\\zeta=0.85$\n"
      ]
    },
    {
      "cell_type": "markdown",
      "metadata": {
        "id": "ywwY2x97Bejj"
      },
      "source": [
        "The above relation can be compactly written by the following matrix form,\n",
        "\n",
        "$$\n",
        "  p = \\frac{1-\\zeta}{n} {\\bf 1} + \\zeta M p\n",
        "$$\n",
        "\n",
        "where $p = \\bmat{p_1 & p_2 & \\cdots & p_n}^T$, and ${\\bf 1}\\in\\R^{n}$ is the one-vector whose elements are all 1's.\n",
        "\n",
        "1. What is $M_{ij}$, for $i,j \\in \\{1,\\dots,n\\}$?\n",
        "\n"
      ]
    },
    {
      "cell_type": "markdown",
      "metadata": {
        "id": "w-MyGqxdR9p2"
      },
      "source": [
        "> ---\n",
        "> `# your answer here`\n",
        ">\n",
        "> $$\n",
        "M_{ij} =\n",
        "\\begin{cases}\n",
        "  \\frac{1}{d_j} &\\quad \\text{if $j\\in\\mc{N}_i$ ($j$ has outbound link to $i$)} \\\\\n",
        "  0 &\\quad \\text{otherwise}\n",
        "\\end{cases}\n",
        "$$\n",
        ">\n",
        "> ---\n"
      ]
    },
    {
      "cell_type": "markdown",
      "metadata": {
        "id": "47-iFrN2R4Hc"
      },
      "source": [
        "Once you obtained $M\\in\\R^{n\\times n}$, you can solve the above linear equations for $p$. In other words, you can obtain the PageRank for all the $n$ webpages by\n",
        "\n",
        "$$\n",
        "  p = \\frac{1-\\zeta}{n}\\left(I - \\zeta M \\right)^{-1} {\\bf 1}\n",
        "$$\n",
        "\n",
        "However in most cases where the number of webpages that contain somethings you are interested in is extremely large, computing the inverse appearing above is practically impossible. For example googling \"BTS\" returns approximately 528 million documents; you won't be able to compute the inverse of $528000000\\times 528000000$ matrix.\n",
        "\n",
        "Instead of this direct method, you can also solve for $p$ by using the following iterative method.\n",
        "\n",
        "$$\n",
        "  p^{k+1} = \\frac{1-\\zeta}{n} {\\bf 1} + \\zeta M p^{k}\n",
        "$$\n",
        "\n",
        "where $p^k$ stands for the page rank $p$ at the $k$-th iteration step. From a random initial condition $p^0$, you can keep updating $p^k$ until the update amount is sufficiently small. It turns out that this update rule converges for $0<\\zeta<1$."
      ]
    },
    {
      "cell_type": "markdown",
      "metadata": {
        "id": "AvRyj9kiJtBd"
      },
      "source": [
        "Now a toy example. Suppose we have the small space of 11 webpages whose list of outbound link connections are given by\n",
        "\n",
        "- Page A has links to A,B,C,D,E,F,G,H,I,J,K (everyone)\n",
        "- Page B has links to C\n",
        "- Page C has links to B\n",
        "- Page D has links to A, B\n",
        "- Page E has links to B, D, F\n",
        "- Page F has links to B, E\n",
        "- Page G has links to B, E\n",
        "- Page H has links to B, E\n",
        "- Page I has links to B, E\n",
        "- Page J has links to E\n",
        "- Page K has links to E"
      ]
    },
    {
      "cell_type": "markdown",
      "metadata": {
        "id": "PgAka7GbLg13"
      },
      "source": [
        "\n",
        "2. Build $M$. In other words, define a $11\\times 11$ matrix $M$ and assign the explicit numeric value for each $M_{ij}$."
      ]
    },
    {
      "cell_type": "code",
      "metadata": {
        "id": "-i8MTdnZL73M",
        "colab": {
          "base_uri": "https://localhost:8080/",
          "height": 611
        },
        "outputId": "eca97389-188f-4559-c908-4919f61b59f1"
      },
      "source": [
        "import numpy as np\n",
        "dict_M = {\n",
        "    \"A\":{\"A\",\"B\",\"C\",\"D\",\"E\",\"F\",\"G\",\"H\",\"I\",\"J\",\"K\"},\n",
        "    \"B\":{\"C\"},\n",
        "    \"C\":{\"B\"},\n",
        "    \"D\":{\"A\",\"B\"},\n",
        "    \"E\":{\"B\",\"D\",\"F\"},\n",
        "    \"F\":{\"B\",\"E\"},\n",
        "    \"G\":{\"B\",\"E\"},\n",
        "    \"H\":{\"B\",\"E\"},\n",
        "    \"I\":{\"B\",\"E\"},\n",
        "    \"J\":{\"E\"},\n",
        "    \"K\":{\"E\"}\n",
        "}\n",
        "alphabet = sorted(list(dict_M.keys()))\n",
        "M = np.array([[float(0) for i in range(11)]for j in range(11)])\n",
        "for i in range(len(M)):\n",
        "  for j in range(len(M)):\n",
        "    if alphabet[i] in dict_M[alphabet[j]]:\n",
        "      M[i][j] = 1 / len(dict_M[alphabet[j]])\n",
        "    else:\n",
        "      continue\n",
        "display(M)"
      ],
      "execution_count": 38,
      "outputs": [
        {
          "output_type": "display_data",
          "data": {
            "text/plain": [
              "array([[0.09090909, 0.        , 0.        , 0.5       , 0.        ,\n",
              "        0.        , 0.        , 0.        , 0.        , 0.        ,\n",
              "        0.        ],\n",
              "       [0.09090909, 0.        , 1.        , 0.5       , 0.33333333,\n",
              "        0.5       , 0.5       , 0.5       , 0.5       , 0.        ,\n",
              "        0.        ],\n",
              "       [0.09090909, 1.        , 0.        , 0.        , 0.        ,\n",
              "        0.        , 0.        , 0.        , 0.        , 0.        ,\n",
              "        0.        ],\n",
              "       [0.09090909, 0.        , 0.        , 0.        , 0.33333333,\n",
              "        0.        , 0.        , 0.        , 0.        , 0.        ,\n",
              "        0.        ],\n",
              "       [0.09090909, 0.        , 0.        , 0.        , 0.        ,\n",
              "        0.5       , 0.5       , 0.5       , 0.5       , 1.        ,\n",
              "        1.        ],\n",
              "       [0.09090909, 0.        , 0.        , 0.        , 0.33333333,\n",
              "        0.        , 0.        , 0.        , 0.        , 0.        ,\n",
              "        0.        ],\n",
              "       [0.09090909, 0.        , 0.        , 0.        , 0.        ,\n",
              "        0.        , 0.        , 0.        , 0.        , 0.        ,\n",
              "        0.        ],\n",
              "       [0.09090909, 0.        , 0.        , 0.        , 0.        ,\n",
              "        0.        , 0.        , 0.        , 0.        , 0.        ,\n",
              "        0.        ],\n",
              "       [0.09090909, 0.        , 0.        , 0.        , 0.        ,\n",
              "        0.        , 0.        , 0.        , 0.        , 0.        ,\n",
              "        0.        ],\n",
              "       [0.09090909, 0.        , 0.        , 0.        , 0.        ,\n",
              "        0.        , 0.        , 0.        , 0.        , 0.        ,\n",
              "        0.        ],\n",
              "       [0.09090909, 0.        , 0.        , 0.        , 0.        ,\n",
              "        0.        , 0.        , 0.        , 0.        , 0.        ,\n",
              "        0.        ]])"
            ]
          },
          "metadata": {}
        }
      ]
    },
    {
      "cell_type": "markdown",
      "metadata": {
        "id": "bl5rHq7bQLGN"
      },
      "source": [
        "3. Randomly generate initial $p^0>0$ such that $\\|p^0\\|_1=1$, and use the update rule\n",
        "$$\n",
        "  p^{k+1} = \\frac{1-\\zeta}{n} {\\bf 1} + \\zeta M p^{k}\n",
        "$$\n",
        "with $\\zeta=0.85$ until the update amount is sufficiently small. For example you could keep iterating until $k=K$ when the following convergence is achieved.\n",
        "$$\\|p^{K+1}-p^{K}\\|_2<10^{-6}$$\n",
        "\n",
        "> a) How many iterations dis you need to get the convergence?\n",
        ">\n",
        ">\n",
        "> b) Which webpage has the highest PageRank? List the PageRank of each page."
      ]
    },
    {
      "cell_type": "code",
      "metadata": {
        "id": "moY2FidMmMog",
        "colab": {
          "base_uri": "https://localhost:8080/",
          "height": 467
        },
        "outputId": "ae309310-adaf-4954-97f0-b90e3cbe96f3"
      },
      "source": [
        "import matplotlib.pyplot as plt\n",
        "one = np.array([1 for i in range(11)])\n",
        "\n",
        "n =11\n",
        "\n",
        "p_before=np.random.rand(n)\n",
        "\n",
        "abs = np.sum(np.abs(p_before))\n",
        "\n",
        "\n",
        "p_before = p_before / abs\n",
        "iteration = 0\n",
        "p_s=[p_before]\n",
        "while True:\n",
        "  p_after = (0.15/11) * one + 0.85 * M@p_before\n",
        "  if np.linalg.norm(p_after-p_before) < 10**(-6):\n",
        "    break\n",
        "  else:\n",
        "    p_s.append(p_after)\n",
        "    p_before = p_after\n",
        "    iteration +=1\n",
        "p_s=np.array(p_s)\n",
        "print(f\"convergence in {iteration} iterations\")\n",
        "for p in range(11):\n",
        "  plt.plot(p_s[:,p],label=f\"p_{p}\")\n",
        "plt.xlabel(\"iterations\")\n",
        "plt.ylabel(\"Page rank\")\n",
        "plt.legend()\n",
        "plt.show()"
      ],
      "execution_count": 13,
      "outputs": [
        {
          "output_type": "stream",
          "name": "stdout",
          "text": [
            "convergence in 78 iterations\n"
          ]
        },
        {
          "output_type": "display_data",
          "data": {
            "text/plain": [
              "<Figure size 640x480 with 1 Axes>"
            ],
            "image/png": "[encoded data removed]"
          },
          "metadata": {}
        }
      ]
    },
    {
      "cell_type": "code",
      "source": [
        "\n",
        "##이는 Eigenvalue와 비슷하다.\n",
        "damping_ratio=0.85\n",
        "n=11\n",
        "\n",
        "##eigenvalue를 계산해보자.\n",
        "\n",
        "G= (1-damping_ratio)/n * np.outer(np.ones(11),np.ones(11))+damping_ratio*M\n",
        "\n",
        "eigenvalues,eigenvectors=np.linalg.eig(G)\n",
        "display(np.linalg.eig(G))\n",
        "index=np.isclose( eigenvalues,1.0)\n",
        "print(index)\n",
        "for i in range(len(index)):\n",
        "  if index[i]:\n",
        "    plt.plot(eigenvectors[i,:])\n",
        "\n",
        "\n",
        "\n",
        "plt.plot(p_s[-1,:])\n",
        "plt.legend()\n",
        "\n",
        "plt.show()"
      ],
      "metadata": {
        "id": "AzL6UzfJ4YwL",
        "outputId": "3e4c53d7-0d11-44fc-c719-c1cd6a2204db",
        "colab": {
          "base_uri": "https://localhost:8080/",
          "height": 1000
        }
      },
      "execution_count": 52,
      "outputs": [
        {
          "output_type": "display_data",
          "data": {
            "text/plain": [
              "EigResult(eigenvalues=array([ 1.00000000e+00+0.j        , -8.50000000e-01+0.j        ,\n",
              "        5.38757127e-01+0.j        , -4.83851388e-01+0.j        ,\n",
              "        1.11834942e-02+0.32568031j,  1.11834942e-02-0.32568031j,\n",
              "        1.23542283e-16+0.j        , -1.03199014e-17+0.j        ,\n",
              "       -9.31067926e-49+0.j        ,  0.00000000e+00+0.j        ,\n",
              "        0.00000000e+00+0.j        ]), eigenvectors=array([[ 6.22485303e-02+0.j        ,  3.48578484e-16+0.j        ,\n",
              "         2.06358121e-01+0.j        ,  3.03935721e-01+0.j        ,\n",
              "        -4.86407160e-01+0.06228385j, -4.86407160e-01-0.06228385j,\n",
              "         4.11615895e-17+0.j        , -2.64873527e-16+0.j        ,\n",
              "        -3.17550294e-17+0.j        ,  3.17550294e-17+0.j        ,\n",
              "         3.17550294e-17+0.j        ],\n",
              "       [ 7.29936065e-01+0.j        ,  7.07106781e-01+0.j        ,\n",
              "        -4.66261068e-01+0.j        , -2.47753289e-01+0.j        ,\n",
              "        -3.09054336e-02-0.06670525j, -3.09054336e-02+0.06670525j,\n",
              "         1.99112449e-16+0.j        ,  1.26968785e-16+0.j        ,\n",
              "         2.01232337e-19+0.j        , -2.01232337e-19+0.j        ,\n",
              "        -2.01232337e-19+0.j        ],\n",
              "       [ 6.51149757e-01+0.j        , -7.07106781e-01+0.j        ,\n",
              "        -7.06025098e-01+0.j        ,  3.86697978e-01+0.j        ,\n",
              "        -1.65854838e-01+0.19037316j, -1.65854838e-01-0.19037316j,\n",
              "         2.81247570e-01+0.j        , -4.47588129e-01+0.j        ,\n",
              "        -1.37949284e-17+0.j        ,  2.70370745e-18+0.j        ,\n",
              "         2.70370745e-18+0.j        ],\n",
              "       [ 7.42221846e-02+0.j        , -2.05249939e-16+0.j        ,\n",
              "         2.24073067e-01+0.j        , -4.01283911e-01+0.j        ,\n",
              "         2.79097688e-02-0.38242241j,  2.79097688e-02+0.38242241j,\n",
              "         2.17154798e-16+0.j        , -3.59810129e-16+0.j        ,\n",
              "         1.91668055e-16+0.j        , -1.91668055e-16+0.j        ,\n",
              "        -1.91668055e-16+0.j        ],\n",
              "       [ 1.53593233e-01+0.j        ,  7.58645346e-16+0.j        ,\n",
              "         3.69794496e-01+0.j        ,  6.02385301e-01+0.j        ,\n",
              "         5.73337354e-01+0.j        ,  5.73337354e-01-0.j        ,\n",
              "         2.92597527e-16+0.j        ,  3.03746223e-16+0.j        ,\n",
              "         4.99133230e-18+0.j        , -4.99133230e-18+0.j        ,\n",
              "        -4.99133230e-18+0.j        ],\n",
              "       [ 7.42221846e-02+0.j        , -4.35614850e-16+0.j        ,\n",
              "         2.24073067e-01+0.j        , -4.01283911e-01+0.j        ,\n",
              "         2.79097688e-02-0.38242241j,  2.79097688e-02+0.38242241j,\n",
              "        -9.15931279e-01+0.j        , -2.03279636e-02+0.j        ,\n",
              "        -1.56976195e-16+0.j        ,  1.76577914e-16+0.j        ,\n",
              "         1.76577914e-16+0.j        ],\n",
              "       [ 3.07041018e-02+0.j        , -1.00459886e-16+0.j        ,\n",
              "         2.95974829e-02+0.j        , -4.85395777e-02+0.j        ,\n",
              "         1.08021079e-02+0.11577861j,  1.08021079e-02-0.11577861j,\n",
              "         1.06406177e-01+0.j        ,  5.69649143e-01+0.j        ,\n",
              "         7.07106781e-01+0.j        , -7.07106781e-01+0.j        ,\n",
              "        -7.07106781e-01+0.j        ],\n",
              "       [ 3.07041018e-02+0.j        , -1.00459886e-16+0.j        ,\n",
              "         2.95974829e-02+0.j        , -4.85395777e-02+0.j        ,\n",
              "         1.08021079e-02+0.11577861j,  1.08021079e-02-0.11577861j,\n",
              "         1.06406177e-01+0.j        ,  5.69649143e-01+0.j        ,\n",
              "        -7.07106781e-01+0.j        ,  7.07106781e-01+0.j        ,\n",
              "         7.07106781e-01+0.j        ],\n",
              "       [ 3.07041018e-02+0.j        , -9.69957520e-17+0.j        ,\n",
              "         2.95974829e-02+0.j        , -4.85395777e-02+0.j        ,\n",
              "         1.08021079e-02+0.11577861j,  1.08021079e-02-0.11577861j,\n",
              "         1.40623785e-01+0.j        , -2.23794064e-01+0.j        ,\n",
              "        -6.35612081e-17+0.j        , -9.09817645e-17+0.j        ,\n",
              "        -9.09817645e-17+0.j        ],\n",
              "       [ 3.07041018e-02+0.j        , -9.69957520e-17+0.j        ,\n",
              "         2.95974829e-02+0.j        , -4.85395777e-02+0.j        ,\n",
              "         1.08021079e-02+0.11577861j,  1.08021079e-02-0.11577861j,\n",
              "         1.40623785e-01+0.j        , -2.23794064e-01+0.j        ,\n",
              "        -6.35612081e-17+0.j        ,  1.44039265e-16+0.j        ,\n",
              "        -2.80080695e-17+0.j        ],\n",
              "       [ 3.07041018e-02+0.j        , -9.69957520e-17+0.j        ,\n",
              "         2.95974829e-02+0.j        , -4.85395777e-02+0.j        ,\n",
              "         1.08021079e-02+0.11577861j,  1.08021079e-02-0.11577861j,\n",
              "         1.40623785e-01+0.j        , -2.23794064e-01+0.j        ,\n",
              "        -6.35612081e-17+0.j        , -2.80080695e-17+0.j        ,\n",
              "         1.44039265e-16+0.j        ]]))"
            ]
          },
          "metadata": {}
        },
        {
          "output_type": "stream",
          "name": "stderr",
          "text": [
            "WARNING:matplotlib.legend:No artists with labels found to put in legend.  Note that artists whose label start with an underscore are ignored when legend() is called with no argument.\n"
          ]
        },
        {
          "output_type": "stream",
          "name": "stdout",
          "text": [
            "[ True False False False False False False False False False False]\n"
          ]
        },
        {
          "output_type": "display_data",
          "data": {
            "text/plain": [
              "<Figure size 640x480 with 1 Axes>"
            ],
            "image/png": "[encoded data removed]"
          },
          "metadata": {}
        }
      ]
    },
    {
      "cell_type": "markdown",
      "metadata": {
        "id": "Z1lPNAbd8_2W"
      },
      "source": [
        "---\n",
        "_<div style=\"text-align: right\">\n",
        "Contents partially taken from Wikipedia (https://en.wikipedia.org/wiki/PageRank).\n",
        "</div>_\n",
        "\n",
        "\n"
      ]
    }
  ]
}