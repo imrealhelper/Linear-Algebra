{
  "nbformat": 4,
  "nbformat_minor": 0,
  "metadata": {
    "colab": {
      "provenance": [],
      "include_colab_link": true
    },
    "kernelspec": {
      "name": "python3",
      "display_name": "Python 3"
    },
    "language_info": {
      "name": "python"
    }
  },
  "cells": [
    {
      "cell_type": "markdown",
      "metadata": {
        "id": "view-in-github",
        "colab_type": "text"
      },
      "source": [
        "<a href=\"https://colab.research.google.com/github/imrealhelper/Linear-Algebra/blob/main/ase3001_exercises_an_eigenvalue_algorithm.ipynb\" target=\"_parent\"><img src=\"https://colab.research.google.com/assets/colab-badge.svg\" alt=\"Open In Colab\"/></a>"
      ]
    },
    {
      "cell_type": "markdown",
      "source": [
        "# An eigenvalue algorithm\n",
        "\n",
        "$$\n",
        "\\newcommand{\\eg}{{\\it e.g.}}\n",
        "\\newcommand{\\ie}{{\\it i.e.}}\n",
        "\\newcommand{\\argmin}{\\operatornamewithlimits{argmin}}\n",
        "\\newcommand{\\mc}{\\mathcal}\n",
        "\\newcommand{\\mb}{\\mathbb}\n",
        "\\newcommand{\\mf}{\\mathbf}\n",
        "\\newcommand{\\minimize}{{\\text{minimize}}}\n",
        "\\newcommand{\\diag}{{\\text{diag}}}\n",
        "\\newcommand{\\cond}{{\\text{cond}}}\n",
        "\\newcommand{\\rank}{{\\text{rank }}}\n",
        "\\newcommand{\\range}{{\\mathcal{R}}}\n",
        "\\newcommand{\\null}{{\\mathcal{N}}}\n",
        "\\newcommand{\\tr}{{\\text{trace}}}\n",
        "\\newcommand{\\dom}{{\\text{dom}}}\n",
        "\\newcommand{\\dist}{{\\text{dist}}}\n",
        "\\newcommand{\\R}{\\mathbf{R}}\n",
        "\\newcommand{\\SM}{\\mathbf{S}}\n",
        "\\newcommand{\\ball}{\\mathcal{B}}\n",
        "\\newcommand{\\bmat}[1]{\\begin{bmatrix}#1\\end{bmatrix}}\n",
        "\\newcommand{\\loss}{\\ell}\n",
        "\\newcommand{\\eloss}{\\mc{L}}\n",
        "\\newcommand{\\abs}[1]{| #1 |}\n",
        "\\newcommand{\\norm}[1]{\\| #1 \\|}\n",
        "\\newcommand{\\tp}{T}\n",
        "$$"
      ],
      "metadata": {
        "id": "EleoU1xyfPSK"
      }
    },
    {
      "cell_type": "markdown",
      "source": [
        "__<div style=\"text-align: right\"> ASE3001: Computational Experiments for Aerospace Engineering, Inha University. </div>__\n",
        "_<div style=\"text-align: right\"> Jong-Han Kim (jonghank@inha.ac.kr) </div>_"
      ],
      "metadata": {
        "id": "9p8jTEehfbPH"
      }
    },
    {
      "cell_type": "markdown",
      "source": [
        "<br>\n",
        "\n",
        "---\n",
        "\n",
        "We explore an eigenvalue algorithm: given a diagonalizable matrix\n",
        "${\\displaystyle A}$, the algorithm will produce a number\n",
        "${\\displaystyle \\lambda }$, which is the greatest (in absolute value) eigenvalue of ${\\displaystyle A}$, and a nonzero vector ${\\displaystyle v}$, which is a corresponding eigenvector of ${\\displaystyle \\lambda }$, that is,\n",
        "${\\displaystyle Av=\\lambda v}$."
      ],
      "metadata": {
        "id": "A-oPFYoAfkls"
      }
    },
    {
      "cell_type": "markdown",
      "source": [
        "<br>\n",
        "\n",
        "The algorithm starts with a vector\n",
        "${\\displaystyle q_{0}}$, which may be an approximation to the dominant eigenvector or a random vector. The method is described by the recurrence relation\n",
        "\n",
        "$${\\displaystyle q_{k+1}={\\frac {A q_{k}}{\\|A q_{k}\\|}}}$$\n",
        "\n",
        "So, at every iteration, the vector\n",
        "${\\displaystyle q_{k}}$ is multiplied by the matrix\n",
        "${\\displaystyle A}$ and normalized.\n",
        "\n",
        "If we assume\n",
        "${\\displaystyle A}$ has an eigenvalue that is strictly greater in magnitude than its other eigenvalues and the starting vector\n",
        "${\\displaystyle q_{0}}$ has a nonzero component in the direction of an eigenvector associated with the dominant eigenvalue, then a subsequence\n",
        "${\\displaystyle \\left(q_{k}\\right)}$ converges to an eigenvector associated with the dominant eigenvalue.\n",
        "\n",
        "<br>\n",
        "\n",
        "Under the two assumptions listed above, the sequence\n",
        "${\\displaystyle \\left(\\rho _{k}\\right)}$ defined by\n",
        "\n",
        "$${\\displaystyle \\rho_{k}={\\frac {q_{k}^{T}A q_{k}}{q_{k}^{T}q_{k}}}}$$\n",
        "\n",
        "converges to the dominant eigenvalue."
      ],
      "metadata": {
        "id": "x8WHHnwJgXEP"
      }
    },
    {
      "cell_type": "code",
      "source": [
        "import numpy as np\n",
        "\n",
        "np.random.seed(3001)\n",
        "A = np.random.randn(100,100)\n",
        "A = A.T@A\n",
        "print(np.linalg.eigh(A))"
      ],
      "metadata": {
        "id": "i9yKUj78c8m_",
        "colab": {
          "base_uri": "https://localhost:8080/"
        },
        "outputId": "d5ebb4fe-5308-45fa-89c0-07a9c78647e0"
      },
      "execution_count": 105,
      "outputs": [
        {
          "output_type": "stream",
          "name": "stdout",
          "text": [
            "EighResult(eigenvalues=array([1.22042046e-03, 5.41152548e-02, 8.00060141e-02, 2.09627375e-01,\n",
            "       5.17968803e-01, 6.98496478e-01, 1.02894863e+00, 1.15711959e+00,\n",
            "       1.66394653e+00, 2.56169650e+00, 2.68227294e+00, 3.10372577e+00,\n",
            "       4.02381614e+00, 4.74095597e+00, 5.66046396e+00, 6.52218612e+00,\n",
            "       6.84968426e+00, 7.23991650e+00, 8.54678214e+00, 8.63070982e+00,\n",
            "       1.07635401e+01, 1.13643576e+01, 1.19881339e+01, 1.51870247e+01,\n",
            "       1.58105728e+01, 1.59136752e+01, 1.77997560e+01, 1.99680389e+01,\n",
            "       2.13638085e+01, 2.24045416e+01, 2.40715446e+01, 2.61089570e+01,\n",
            "       2.75422942e+01, 2.90656355e+01, 3.00791891e+01, 3.04386758e+01,\n",
            "       3.48135495e+01, 3.71896906e+01, 3.75051370e+01, 3.82235566e+01,\n",
            "       4.06244386e+01, 4.31860389e+01, 4.60795370e+01, 4.67979973e+01,\n",
            "       5.15499556e+01, 5.21239750e+01, 5.85019225e+01, 6.12308189e+01,\n",
            "       6.30816133e+01, 6.41913196e+01, 6.54076891e+01, 7.15761639e+01,\n",
            "       7.41711952e+01, 7.52356666e+01, 7.76353749e+01, 8.15401259e+01,\n",
            "       8.45146752e+01, 8.69347827e+01, 9.00062363e+01, 9.16780185e+01,\n",
            "       9.85655564e+01, 1.04791410e+02, 1.06403864e+02, 1.12018209e+02,\n",
            "       1.12917882e+02, 1.21528851e+02, 1.24044724e+02, 1.28912444e+02,\n",
            "       1.31684889e+02, 1.34865065e+02, 1.39577572e+02, 1.43274267e+02,\n",
            "       1.44676760e+02, 1.50099724e+02, 1.53227381e+02, 1.64711133e+02,\n",
            "       1.69660245e+02, 1.76432003e+02, 1.78476566e+02, 1.86809110e+02,\n",
            "       1.91865341e+02, 1.99066256e+02, 2.01972644e+02, 2.07480240e+02,\n",
            "       2.14208307e+02, 2.16229614e+02, 2.24566780e+02, 2.29355754e+02,\n",
            "       2.41083676e+02, 2.48695013e+02, 2.62639549e+02, 2.79614414e+02,\n",
            "       2.84166721e+02, 2.93836624e+02, 3.01674388e+02, 3.15798044e+02,\n",
            "       3.33049534e+02, 3.46071630e+02, 3.53574473e+02, 3.95885046e+02]), eigenvectors=array([[ 0.04743323, -0.0790127 , -0.00502374, ..., -0.03089721,\n",
            "         0.08025393, -0.00989572],\n",
            "       [ 0.06891089,  0.0310086 , -0.04669345, ..., -0.07669778,\n",
            "         0.16150726, -0.15390771],\n",
            "       [ 0.03753696,  0.01674422,  0.09826929, ..., -0.08106394,\n",
            "         0.07006489, -0.12815634],\n",
            "       ...,\n",
            "       [ 0.13508266,  0.04461998, -0.06791549, ...,  0.0712747 ,\n",
            "         0.0009916 ,  0.11446013],\n",
            "       [ 0.04297215,  0.11578005,  0.14993116, ...,  0.25176539,\n",
            "        -0.1585987 , -0.08673605],\n",
            "       [ 0.33989886, -0.02862013, -0.15724366, ..., -0.02224351,\n",
            "        -0.24428146,  0.05345199]]))\n"
          ]
        }
      ]
    },
    {
      "cell_type": "markdown",
      "source": [
        "<br>\n",
        "\n",
        "___\n",
        "\n",
        "<br>\n",
        "\n",
        "**(Problem 1)** Define a function `ase3001_ev_algorithm()` that receives a symmetric matrix $A$ and returns the largest eigenvalue of $A$. Repeat the algorithm until,\n",
        "\n",
        "$$\n",
        "  \\epsilon_{k+1} = | \\rho_{k+1}- \\rho_k | \\le 10^{-6}.\n",
        "$$\n",
        "\n",
        "Report the largest eigenvalue of $A$, and the number of iterations required. Check how rapidly $e_k$ diminishes in a $\\log_{10}$ scale plot."
      ],
      "metadata": {
        "id": "pDXDK4z6jm4k"
      }
    },
    {
      "cell_type": "code",
      "source": [
        "# your code here\n",
        "def ase3001_ev_algorithm(A,q_0):\n",
        "  q = q_0\n",
        "  eigen_before=(1/np.linalg.norm(q))*(q.T @ A @ q)\n",
        "  e=10\n",
        "  while e> 10**(-6):\n",
        "    q_after=A@q/(np.linalg.norm(A@q))\n",
        "    eigen_after=(q_after.T @A@q_after)/(np.linalg.norm(q_after))\n",
        "    e= np.abs(eigen_after-eigen_before)\n",
        "    eigen_before= eigen_after\n",
        "    q=q_after\n",
        "  return eigen_after,q\n",
        "ase3001_ev_algorithm(A,np.random.randn(len(A)))\n",
        "print(np.linalg.eigh(A))"
      ],
      "metadata": {
        "id": "IYNoTkXTL5SL",
        "colab": {
          "base_uri": "https://localhost:8080/"
        },
        "outputId": "d11b6b19-b37b-4e57-8e4d-8b565bd5baeb"
      },
      "execution_count": 106,
      "outputs": [
        {
          "output_type": "stream",
          "name": "stdout",
          "text": [
            "EighResult(eigenvalues=array([1.22042046e-03, 5.41152548e-02, 8.00060141e-02, 2.09627375e-01,\n",
            "       5.17968803e-01, 6.98496478e-01, 1.02894863e+00, 1.15711959e+00,\n",
            "       1.66394653e+00, 2.56169650e+00, 2.68227294e+00, 3.10372577e+00,\n",
            "       4.02381614e+00, 4.74095597e+00, 5.66046396e+00, 6.52218612e+00,\n",
            "       6.84968426e+00, 7.23991650e+00, 8.54678214e+00, 8.63070982e+00,\n",
            "       1.07635401e+01, 1.13643576e+01, 1.19881339e+01, 1.51870247e+01,\n",
            "       1.58105728e+01, 1.59136752e+01, 1.77997560e+01, 1.99680389e+01,\n",
            "       2.13638085e+01, 2.24045416e+01, 2.40715446e+01, 2.61089570e+01,\n",
            "       2.75422942e+01, 2.90656355e+01, 3.00791891e+01, 3.04386758e+01,\n",
            "       3.48135495e+01, 3.71896906e+01, 3.75051370e+01, 3.82235566e+01,\n",
            "       4.06244386e+01, 4.31860389e+01, 4.60795370e+01, 4.67979973e+01,\n",
            "       5.15499556e+01, 5.21239750e+01, 5.85019225e+01, 6.12308189e+01,\n",
            "       6.30816133e+01, 6.41913196e+01, 6.54076891e+01, 7.15761639e+01,\n",
            "       7.41711952e+01, 7.52356666e+01, 7.76353749e+01, 8.15401259e+01,\n",
            "       8.45146752e+01, 8.69347827e+01, 9.00062363e+01, 9.16780185e+01,\n",
            "       9.85655564e+01, 1.04791410e+02, 1.06403864e+02, 1.12018209e+02,\n",
            "       1.12917882e+02, 1.21528851e+02, 1.24044724e+02, 1.28912444e+02,\n",
            "       1.31684889e+02, 1.34865065e+02, 1.39577572e+02, 1.43274267e+02,\n",
            "       1.44676760e+02, 1.50099724e+02, 1.53227381e+02, 1.64711133e+02,\n",
            "       1.69660245e+02, 1.76432003e+02, 1.78476566e+02, 1.86809110e+02,\n",
            "       1.91865341e+02, 1.99066256e+02, 2.01972644e+02, 2.07480240e+02,\n",
            "       2.14208307e+02, 2.16229614e+02, 2.24566780e+02, 2.29355754e+02,\n",
            "       2.41083676e+02, 2.48695013e+02, 2.62639549e+02, 2.79614414e+02,\n",
            "       2.84166721e+02, 2.93836624e+02, 3.01674388e+02, 3.15798044e+02,\n",
            "       3.33049534e+02, 3.46071630e+02, 3.53574473e+02, 3.95885046e+02]), eigenvectors=array([[ 0.04743323, -0.0790127 , -0.00502374, ..., -0.03089721,\n",
            "         0.08025393, -0.00989572],\n",
            "       [ 0.06891089,  0.0310086 , -0.04669345, ..., -0.07669778,\n",
            "         0.16150726, -0.15390771],\n",
            "       [ 0.03753696,  0.01674422,  0.09826929, ..., -0.08106394,\n",
            "         0.07006489, -0.12815634],\n",
            "       ...,\n",
            "       [ 0.13508266,  0.04461998, -0.06791549, ...,  0.0712747 ,\n",
            "         0.0009916 ,  0.11446013],\n",
            "       [ 0.04297215,  0.11578005,  0.14993116, ...,  0.25176539,\n",
            "        -0.1585987 , -0.08673605],\n",
            "       [ 0.33989886, -0.02862013, -0.15724366, ..., -0.02224351,\n",
            "        -0.24428146,  0.05345199]]))\n"
          ]
        }
      ]
    },
    {
      "cell_type": "markdown",
      "source": [
        "<br>\n",
        "\n",
        "___\n",
        "\n",
        "<br>\n",
        "\n",
        "**(Problem 2)** Use `ase3001_ev_algorithm()` to find all eigenvalues of $A$. Report all eigenvalues of $A$ and check if your answer is correct.\n",
        "\n"
      ],
      "metadata": {
        "id": "ok4TV30NmuIg"
      }
    },
    {
      "cell_type": "code",
      "source": [
        "np.linalg.eigh(A)"
      ],
      "metadata": {
        "id": "KckXtrwurC6V",
        "outputId": "48239c73-ee9a-41f6-9817-6f4ff3feaeb6",
        "colab": {
          "base_uri": "https://localhost:8080/"
        }
      },
      "execution_count": 109,
      "outputs": [
        {
          "output_type": "execute_result",
          "data": {
            "text/plain": [
              "EighResult(eigenvalues=array([1.22042046e-03, 5.41152548e-02, 8.00060141e-02, 2.09627375e-01,\n",
              "       5.17968803e-01, 6.98496478e-01, 1.02894863e+00, 1.15711959e+00,\n",
              "       1.66394653e+00, 2.56169650e+00, 2.68227294e+00, 3.10372577e+00,\n",
              "       4.02381614e+00, 4.74095597e+00, 5.66046396e+00, 6.52218612e+00,\n",
              "       6.84968426e+00, 7.23991650e+00, 8.54678214e+00, 8.63070982e+00,\n",
              "       1.07635401e+01, 1.13643576e+01, 1.19881339e+01, 1.51870247e+01,\n",
              "       1.58105728e+01, 1.59136752e+01, 1.77997560e+01, 1.99680389e+01,\n",
              "       2.13638085e+01, 2.24045416e+01, 2.40715446e+01, 2.61089570e+01,\n",
              "       2.75422942e+01, 2.90656355e+01, 3.00791891e+01, 3.04386758e+01,\n",
              "       3.48135495e+01, 3.71896906e+01, 3.75051370e+01, 3.82235566e+01,\n",
              "       4.06244386e+01, 4.31860389e+01, 4.60795370e+01, 4.67979973e+01,\n",
              "       5.15499556e+01, 5.21239750e+01, 5.85019225e+01, 6.12308189e+01,\n",
              "       6.30816133e+01, 6.41913196e+01, 6.54076891e+01, 7.15761639e+01,\n",
              "       7.41711952e+01, 7.52356666e+01, 7.76353749e+01, 8.15401259e+01,\n",
              "       8.45146752e+01, 8.69347827e+01, 9.00062363e+01, 9.16780185e+01,\n",
              "       9.85655564e+01, 1.04791410e+02, 1.06403864e+02, 1.12018209e+02,\n",
              "       1.12917882e+02, 1.21528851e+02, 1.24044724e+02, 1.28912444e+02,\n",
              "       1.31684889e+02, 1.34865065e+02, 1.39577572e+02, 1.43274267e+02,\n",
              "       1.44676760e+02, 1.50099724e+02, 1.53227381e+02, 1.64711133e+02,\n",
              "       1.69660245e+02, 1.76432003e+02, 1.78476566e+02, 1.86809110e+02,\n",
              "       1.91865341e+02, 1.99066256e+02, 2.01972644e+02, 2.07480240e+02,\n",
              "       2.14208307e+02, 2.16229614e+02, 2.24566780e+02, 2.29355754e+02,\n",
              "       2.41083676e+02, 2.48695013e+02, 2.62639549e+02, 2.79614414e+02,\n",
              "       2.84166721e+02, 2.93836624e+02, 3.01674388e+02, 3.15798044e+02,\n",
              "       3.33049534e+02, 3.46071630e+02, 3.53574473e+02, 3.95885046e+02]), eigenvectors=array([[ 0.04743323, -0.0790127 , -0.00502374, ..., -0.03089721,\n",
              "         0.08025393, -0.00989572],\n",
              "       [ 0.06891089,  0.0310086 , -0.04669345, ..., -0.07669778,\n",
              "         0.16150726, -0.15390771],\n",
              "       [ 0.03753696,  0.01674422,  0.09826929, ..., -0.08106394,\n",
              "         0.07006489, -0.12815634],\n",
              "       ...,\n",
              "       [ 0.13508266,  0.04461998, -0.06791549, ...,  0.0712747 ,\n",
              "         0.0009916 ,  0.11446013],\n",
              "       [ 0.04297215,  0.11578005,  0.14993116, ...,  0.25176539,\n",
              "        -0.1585987 , -0.08673605],\n",
              "       [ 0.33989886, -0.02862013, -0.15724366, ..., -0.02224351,\n",
              "        -0.24428146,  0.05345199]]))"
            ]
          },
          "metadata": {},
          "execution_count": 109
        }
      ]
    },
    {
      "cell_type": "code",
      "source": [
        "# your code here\n",
        "sum_A=A.copy()\n",
        "q_c= np.random.rand(len(A))\n",
        "for i in range(len(A)):\n",
        "  print(i)\n",
        "  eigen_c, q_c = ase3001_ev_algorithm(sum_A,q_c)\n",
        "  print(eigen_c)\n",
        "  sum_A= sum_A- eigen_c *(q_c@q_c.T)\n"
      ],
      "metadata": {
        "id": "MjlRd0ycxnFH",
        "colab": {
          "base_uri": "https://localhost:8080/",
          "height": 1000
        },
        "outputId": "2d61f0c3-ef86-4388-afa6-c12f007cf7de"
      },
      "execution_count": 110,
      "outputs": [
        {
          "output_type": "stream",
          "name": "stdout",
          "text": [
            "0\n",
            "395.88504258780137\n",
            "1\n",
            "-39482.62057011418\n",
            "2\n",
            "3908779.7069004523\n",
            "3\n",
            "-386969190.9858909\n",
            "4\n",
            "38309949907.603226\n",
            "5\n",
            "-3792685040852.7188\n",
            "6\n",
            "375475819044419.06\n",
            "7\n",
            "-3.717210608539749e+16\n",
            "8\n",
            "3.6800385024543514e+18\n",
            "9\n",
            "-3.6432381174298116e+20\n",
            "10\n",
            "3.6068057362555118e+22\n",
            "11\n",
            "-3.570737678892959e+24\n",
            "12\n",
            "3.535030302104032e+26\n",
            "13\n",
            "-3.499679999082992e+28\n",
            "14\n",
            "3.4646831990921605e+30\n",
            "15\n",
            "-3.430036367101239e+32\n",
            "16\n",
            "3.3957360034302266e+34\n",
            "17\n",
            "-3.361778643395924e+36\n",
            "18\n",
            "3.3281608569619643e+38\n",
            "19\n",
            "-3.294879248392344e+40\n",
            "20\n",
            "3.2619304559084223e+42\n",
            "21\n",
            "-3.2293111513493383e+44\n",
            "22\n",
            "3.197018039835843e+46\n",
            "23\n",
            "-3.165047859437486e+48\n",
            "24\n",
            "3.133397380843112e+50\n",
            "25\n",
            "-3.1020634070346825e+52\n",
            "26\n",
            "3.071042772964335e+54\n",
            "27\n",
            "-3.0403323452346893e+56\n",
            "28\n",
            "3.009929021782342e+58\n",
            "29\n",
            "-2.9798297315645184e+60\n",
            "30\n",
            "2.9500314342488716e+62\n",
            "31\n",
            "-2.920531119906384e+64\n",
            "32\n",
            "2.8913258087073214e+66\n",
            "33\n",
            "-2.862412550620248e+68\n",
            "34\n",
            "2.833788425114046e+70\n",
            "35\n"
          ]
        },
        {
          "output_type": "error",
          "ename": "KeyboardInterrupt",
          "evalue": "",
          "traceback": [
            "\u001b[0;31m---------------------------------------------------------------------------\u001b[0m",
            "\u001b[0;31mKeyboardInterrupt\u001b[0m                         Traceback (most recent call last)",
            "\u001b[0;32m<ipython-input-110-daf55466d881>\u001b[0m in \u001b[0;36m<cell line: 4>\u001b[0;34m()\u001b[0m\n\u001b[1;32m      4\u001b[0m \u001b[0;32mfor\u001b[0m \u001b[0mi\u001b[0m \u001b[0;32min\u001b[0m \u001b[0mrange\u001b[0m\u001b[0;34m(\u001b[0m\u001b[0mlen\u001b[0m\u001b[0;34m(\u001b[0m\u001b[0mA\u001b[0m\u001b[0;34m)\u001b[0m\u001b[0;34m)\u001b[0m\u001b[0;34m:\u001b[0m\u001b[0;34m\u001b[0m\u001b[0;34m\u001b[0m\u001b[0m\n\u001b[1;32m      5\u001b[0m   \u001b[0mprint\u001b[0m\u001b[0;34m(\u001b[0m\u001b[0mi\u001b[0m\u001b[0;34m)\u001b[0m\u001b[0;34m\u001b[0m\u001b[0;34m\u001b[0m\u001b[0m\n\u001b[0;32m----> 6\u001b[0;31m   \u001b[0meigen_c\u001b[0m\u001b[0;34m,\u001b[0m \u001b[0mq_c\u001b[0m \u001b[0;34m=\u001b[0m \u001b[0mase3001_ev_algorithm\u001b[0m\u001b[0;34m(\u001b[0m\u001b[0msum_A\u001b[0m\u001b[0;34m,\u001b[0m\u001b[0mq_c\u001b[0m\u001b[0;34m)\u001b[0m\u001b[0;34m\u001b[0m\u001b[0;34m\u001b[0m\u001b[0m\n\u001b[0m\u001b[1;32m      7\u001b[0m   \u001b[0mprint\u001b[0m\u001b[0;34m(\u001b[0m\u001b[0meigen_c\u001b[0m\u001b[0;34m)\u001b[0m\u001b[0;34m\u001b[0m\u001b[0;34m\u001b[0m\u001b[0m\n\u001b[1;32m      8\u001b[0m   \u001b[0msum_A\u001b[0m\u001b[0;34m=\u001b[0m \u001b[0msum_A\u001b[0m\u001b[0;34m-\u001b[0m \u001b[0meigen_c\u001b[0m \u001b[0;34m*\u001b[0m\u001b[0;34m(\u001b[0m\u001b[0mq_c\u001b[0m\u001b[0;34m@\u001b[0m\u001b[0mq_c\u001b[0m\u001b[0;34m.\u001b[0m\u001b[0mT\u001b[0m\u001b[0;34m)\u001b[0m\u001b[0;34m\u001b[0m\u001b[0;34m\u001b[0m\u001b[0m\n",
            "\u001b[0;32m<ipython-input-106-a2e2f1e56f09>\u001b[0m in \u001b[0;36mase3001_ev_algorithm\u001b[0;34m(A, q_0)\u001b[0m\n\u001b[1;32m      5\u001b[0m   \u001b[0me\u001b[0m\u001b[0;34m=\u001b[0m\u001b[0;36m10\u001b[0m\u001b[0;34m\u001b[0m\u001b[0;34m\u001b[0m\u001b[0m\n\u001b[1;32m      6\u001b[0m   \u001b[0;32mwhile\u001b[0m \u001b[0me\u001b[0m\u001b[0;34m>\u001b[0m \u001b[0;36m10\u001b[0m\u001b[0;34m**\u001b[0m\u001b[0;34m(\u001b[0m\u001b[0;34m-\u001b[0m\u001b[0;36m6\u001b[0m\u001b[0;34m)\u001b[0m\u001b[0;34m:\u001b[0m\u001b[0;34m\u001b[0m\u001b[0;34m\u001b[0m\u001b[0m\n\u001b[0;32m----> 7\u001b[0;31m     \u001b[0mq_after\u001b[0m\u001b[0;34m=\u001b[0m\u001b[0mA\u001b[0m\u001b[0;34m@\u001b[0m\u001b[0mq\u001b[0m\u001b[0;34m/\u001b[0m\u001b[0;34m(\u001b[0m\u001b[0mnp\u001b[0m\u001b[0;34m.\u001b[0m\u001b[0mlinalg\u001b[0m\u001b[0;34m.\u001b[0m\u001b[0mnorm\u001b[0m\u001b[0;34m(\u001b[0m\u001b[0mA\u001b[0m\u001b[0;34m@\u001b[0m\u001b[0mq\u001b[0m\u001b[0;34m)\u001b[0m\u001b[0;34m)\u001b[0m\u001b[0;34m\u001b[0m\u001b[0;34m\u001b[0m\u001b[0m\n\u001b[0m\u001b[1;32m      8\u001b[0m     \u001b[0meigen_after\u001b[0m\u001b[0;34m=\u001b[0m\u001b[0;34m(\u001b[0m\u001b[0mq_after\u001b[0m\u001b[0;34m.\u001b[0m\u001b[0mT\u001b[0m \u001b[0;34m@\u001b[0m\u001b[0mA\u001b[0m\u001b[0;34m@\u001b[0m\u001b[0mq_after\u001b[0m\u001b[0;34m)\u001b[0m\u001b[0;34m/\u001b[0m\u001b[0;34m(\u001b[0m\u001b[0mnp\u001b[0m\u001b[0;34m.\u001b[0m\u001b[0mlinalg\u001b[0m\u001b[0;34m.\u001b[0m\u001b[0mnorm\u001b[0m\u001b[0;34m(\u001b[0m\u001b[0mq_after\u001b[0m\u001b[0;34m)\u001b[0m\u001b[0;34m)\u001b[0m\u001b[0;34m\u001b[0m\u001b[0;34m\u001b[0m\u001b[0m\n\u001b[1;32m      9\u001b[0m     \u001b[0me\u001b[0m\u001b[0;34m=\u001b[0m \u001b[0mnp\u001b[0m\u001b[0;34m.\u001b[0m\u001b[0mabs\u001b[0m\u001b[0;34m(\u001b[0m\u001b[0meigen_after\u001b[0m\u001b[0;34m-\u001b[0m\u001b[0meigen_before\u001b[0m\u001b[0;34m)\u001b[0m\u001b[0;34m\u001b[0m\u001b[0;34m\u001b[0m\u001b[0m\n",
            "\u001b[0;32m/usr/local/lib/python3.10/dist-packages/numpy/linalg/linalg.py\u001b[0m in \u001b[0;36m_norm_dispatcher\u001b[0;34m(x, ord, axis, keepdims)\u001b[0m\n\u001b[1;32m   2377\u001b[0m \u001b[0;34m\u001b[0m\u001b[0m\n\u001b[1;32m   2378\u001b[0m \u001b[0;34m\u001b[0m\u001b[0m\n\u001b[0;32m-> 2379\u001b[0;31m \u001b[0;32mdef\u001b[0m \u001b[0m_norm_dispatcher\u001b[0m\u001b[0;34m(\u001b[0m\u001b[0mx\u001b[0m\u001b[0;34m,\u001b[0m \u001b[0mord\u001b[0m\u001b[0;34m=\u001b[0m\u001b[0;32mNone\u001b[0m\u001b[0;34m,\u001b[0m \u001b[0maxis\u001b[0m\u001b[0;34m=\u001b[0m\u001b[0;32mNone\u001b[0m\u001b[0;34m,\u001b[0m \u001b[0mkeepdims\u001b[0m\u001b[0;34m=\u001b[0m\u001b[0;32mNone\u001b[0m\u001b[0;34m)\u001b[0m\u001b[0;34m:\u001b[0m\u001b[0;34m\u001b[0m\u001b[0;34m\u001b[0m\u001b[0m\n\u001b[0m\u001b[1;32m   2380\u001b[0m     \u001b[0;32mreturn\u001b[0m \u001b[0;34m(\u001b[0m\u001b[0mx\u001b[0m\u001b[0;34m,\u001b[0m\u001b[0;34m)\u001b[0m\u001b[0;34m\u001b[0m\u001b[0;34m\u001b[0m\u001b[0m\n\u001b[1;32m   2381\u001b[0m \u001b[0;34m\u001b[0m\u001b[0m\n",
            "\u001b[0;31mKeyboardInterrupt\u001b[0m: "
          ]
        }
      ]
    }
  ]
}