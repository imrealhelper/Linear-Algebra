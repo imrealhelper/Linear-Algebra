{
  "nbformat": 4,
  "nbformat_minor": 0,
  "metadata": {
    "colab": {
      "provenance": [],
      "include_colab_link": true
    },
    "kernelspec": {
      "name": "python3",
      "display_name": "Python 3"
    },
    "language_info": {
      "name": "python"
    }
  },
  "cells": [
    {
      "cell_type": "markdown",
      "metadata": {
        "id": "view-in-github",
        "colab_type": "text"
      },
      "source": [
        "<a href=\"https://colab.research.google.com/github/imrealhelper/Linear-Algebra/blob/main/ase3001_exercises_an_eigenvalue_algorithm.ipynb\" target=\"_parent\"><img src=\"https://colab.research.google.com/assets/colab-badge.svg\" alt=\"Open In Colab\"/></a>"
      ]
    },
    {
      "cell_type": "markdown",
      "source": [
        "# An eigenvalue algorithm\n",
        "\n",
        "$$\n",
        "\\newcommand{\\eg}{{\\it e.g.}}\n",
        "\\newcommand{\\ie}{{\\it i.e.}}\n",
        "\\newcommand{\\argmin}{\\operatornamewithlimits{argmin}}\n",
        "\\newcommand{\\mc}{\\mathcal}\n",
        "\\newcommand{\\mb}{\\mathbb}\n",
        "\\newcommand{\\mf}{\\mathbf}\n",
        "\\newcommand{\\minimize}{{\\text{minimize}}}\n",
        "\\newcommand{\\diag}{{\\text{diag}}}\n",
        "\\newcommand{\\cond}{{\\text{cond}}}\n",
        "\\newcommand{\\rank}{{\\text{rank }}}\n",
        "\\newcommand{\\range}{{\\mathcal{R}}}\n",
        "\\newcommand{\\null}{{\\mathcal{N}}}\n",
        "\\newcommand{\\tr}{{\\text{trace}}}\n",
        "\\newcommand{\\dom}{{\\text{dom}}}\n",
        "\\newcommand{\\dist}{{\\text{dist}}}\n",
        "\\newcommand{\\R}{\\mathbf{R}}\n",
        "\\newcommand{\\SM}{\\mathbf{S}}\n",
        "\\newcommand{\\ball}{\\mathcal{B}}\n",
        "\\newcommand{\\bmat}[1]{\\begin{bmatrix}#1\\end{bmatrix}}\n",
        "\\newcommand{\\loss}{\\ell}\n",
        "\\newcommand{\\eloss}{\\mc{L}}\n",
        "\\newcommand{\\abs}[1]{| #1 |}\n",
        "\\newcommand{\\norm}[1]{\\| #1 \\|}\n",
        "\\newcommand{\\tp}{T}\n",
        "$$"
      ],
      "metadata": {
        "id": "EleoU1xyfPSK"
      }
    },
    {
      "cell_type": "markdown",
      "source": [
        "__<div style=\"text-align: right\"> ASE3001: Computational Experiments for Aerospace Engineering, Inha University. </div>__\n",
        "_<div style=\"text-align: right\"> Jong-Han Kim (jonghank@inha.ac.kr) </div>_"
      ],
      "metadata": {
        "id": "9p8jTEehfbPH"
      }
    },
    {
      "cell_type": "markdown",
      "source": [
        "<br>\n",
        "\n",
        "---\n",
        "\n",
        "We explore an eigenvalue algorithm: given a diagonalizable matrix\n",
        "${\\displaystyle A}$, the algorithm will produce a number\n",
        "${\\displaystyle \\lambda }$, which is the greatest (in absolute value) eigenvalue of ${\\displaystyle A}$, and a nonzero vector ${\\displaystyle v}$, which is a corresponding eigenvector of ${\\displaystyle \\lambda }$, that is,\n",
        "${\\displaystyle Av=\\lambda v}$."
      ],
      "metadata": {
        "id": "A-oPFYoAfkls"
      }
    },
    {
      "cell_type": "markdown",
      "source": [
        "<br>\n",
        "\n",
        "The algorithm starts with a vector\n",
        "${\\displaystyle q_{0}}$, which may be an approximation to the dominant eigenvector or a random vector. The method is described by the recurrence relation\n",
        "\n",
        "$${\\displaystyle q_{k+1}={\\frac {A q_{k}}{\\|A q_{k}\\|}}}$$\n",
        "\n",
        "So, at every iteration, the vector\n",
        "${\\displaystyle q_{k}}$ is multiplied by the matrix\n",
        "${\\displaystyle A}$ and normalized.\n",
        "\n",
        "If we assume\n",
        "${\\displaystyle A}$ has an eigenvalue that is strictly greater in magnitude than its other eigenvalues and the starting vector\n",
        "${\\displaystyle q_{0}}$ has a nonzero component in the direction of an eigenvector associated with the dominant eigenvalue, then a subsequence\n",
        "${\\displaystyle \\left(q_{k}\\right)}$ converges to an eigenvector associated with the dominant eigenvalue.\n",
        "\n",
        "<br>\n",
        "\n",
        "Under the two assumptions listed above, the sequence\n",
        "${\\displaystyle \\left(\\rho _{k}\\right)}$ defined by\n",
        "\n",
        "$${\\displaystyle \\rho_{k}={\\frac {q_{k}^{T}A q_{k}}{q_{k}^{T}q_{k}}}}$$\n",
        "\n",
        "converges to the dominant eigenvalue."
      ],
      "metadata": {
        "id": "x8WHHnwJgXEP"
      }
    },
    {
      "cell_type": "code",
      "source": [
        "import numpy as np\n",
        "\n",
        "np.random.seed(3001)\n",
        "A = np.random.randn(100,100)\n",
        "A = A.T@A"
      ],
      "metadata": {
        "id": "i9yKUj78c8m_"
      },
      "execution_count": null,
      "outputs": []
    },
    {
      "cell_type": "markdown",
      "source": [
        "<br>\n",
        "\n",
        "___\n",
        "\n",
        "<br>\n",
        "\n",
        "**(Problem 1)** Define a function `ase3001_ev_algorithm()` that receives a symmetric matrix $A$ and returns the largest eigenvalue of $A$. Repeat the algorithm until,\n",
        "\n",
        "$$\n",
        "  \\epsilon_{k+1} = | \\rho_{k+1}- \\rho_k | \\le 10^{-6}.\n",
        "$$\n",
        "\n",
        "Report the largest eigenvalue of $A$, and the number of iterations required. Check how rapidly $e_k$ diminishes in a $\\log_{10}$ scale plot."
      ],
      "metadata": {
        "id": "pDXDK4z6jm4k"
      }
    },
    {
      "cell_type": "code",
      "source": [
        "# your code here\n",
        "def ase3001_ev_algorithm(A,q_0):\n",
        "  q = q_0\n",
        "  eigen_before=(1/(q.T@q))*(q.T @ A @ q)\n",
        "\n",
        "\n",
        "  e=10\n",
        "  while e> 10**(-6):\n",
        "    q_after=A@q/(np.linalg.norm(A@q))\n",
        "    eigen_after=(q_after.T @A@q_after)/(q_after.T @ q_after)\n",
        "    e= np.abs(eigen_after-eigen_before)\n",
        "    eigen_before= eigen_after\n",
        "    q=q_after\n",
        "  return eigen_after,q\n",
        "ase3001_ev_algorithm(A,np.random.randn(len(A)))"
      ],
      "metadata": {
        "id": "IYNoTkXTL5SL",
        "colab": {
          "base_uri": "https://localhost:8080/"
        },
        "outputId": "7b67c620-d6f3-45d7-b671-407a1eb66dc3"
      },
      "execution_count": 77,
      "outputs": [
        {
          "output_type": "execute_result",
          "data": {
            "text/plain": [
              "(nan,\n",
              " array([nan, nan, nan, nan, nan, nan, nan, nan, nan, nan, nan, nan, nan,\n",
              "        nan, nan, nan, nan, nan, nan, nan, nan, nan, nan, nan, nan, nan,\n",
              "        nan, nan, nan, nan, nan, nan, nan, nan, nan, nan, nan, nan, nan,\n",
              "        nan, nan, nan, nan, nan, nan, nan, nan, nan, nan, nan, nan, nan,\n",
              "        nan, nan, nan, nan, nan, nan, nan, nan, nan, nan, nan, nan, nan,\n",
              "        nan, nan, nan, nan, nan, nan, nan, nan, nan, nan, nan, nan, nan,\n",
              "        nan, nan, nan, nan, nan, nan, nan, nan, nan, nan, nan, nan, nan,\n",
              "        nan, nan, nan, nan, nan, nan, nan, nan, nan]))"
            ]
          },
          "metadata": {},
          "execution_count": 77
        }
      ]
    },
    {
      "cell_type": "markdown",
      "source": [
        "<br>\n",
        "\n",
        "___\n",
        "\n",
        "<br>\n",
        "\n",
        "**(Problem 2)** Use `ase3001_ev_algorithm()` to find all eigenvalues of $A$. Report all eigenvalues of $A$ and check if your answer is correct.\n",
        "\n"
      ],
      "metadata": {
        "id": "ok4TV30NmuIg"
      }
    },
    {
      "cell_type": "code",
      "source": [
        "# your code here\n",
        "sum_A=A\n",
        "q= np.random.rand(len(A))\n",
        "for i in range(len(A)):\n",
        "  eigen, q = ase3001_ev_algorithm(sum_A,q)\n",
        "  sum_A -= eigen *(q@q.T)\n"
      ],
      "metadata": {
        "id": "MjlRd0ycxnFH",
        "colab": {
          "base_uri": "https://localhost:8080/"
        },
        "outputId": "379c44c7-88b3-44c6-d203-c5d4b338aa37"
      },
      "execution_count": 66,
      "outputs": [
        {
          "output_type": "stream",
          "name": "stderr",
          "text": [
            "<ipython-input-65-bdb39b06d10a>:8: RuntimeWarning: invalid value encountered in scalar divide\n",
            "  eigen_after=(q_after.T @A@q_after)/(q_after.T@q_after)\n"
          ]
        }
      ]
    }
  ]
}