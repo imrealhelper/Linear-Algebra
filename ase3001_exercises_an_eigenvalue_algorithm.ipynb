{
  "nbformat": 4,
  "nbformat_minor": 0,
  "metadata": {
    "colab": {
      "provenance": [],
      "include_colab_link": true
    },
    "kernelspec": {
      "name": "python3",
      "display_name": "Python 3"
    },
    "language_info": {
      "name": "python"
    }
  },
  "cells": [
    {
      "cell_type": "markdown",
      "metadata": {
        "id": "view-in-github",
        "colab_type": "text"
      },
      "source": [
        "<a href=\"https://colab.research.google.com/github/imrealhelper/Linear-Algebra/blob/main/ase3001_exercises_an_eigenvalue_algorithm.ipynb\" target=\"_parent\"><img src=\"https://colab.research.google.com/assets/colab-badge.svg\" alt=\"Open In Colab\"/></a>"
      ]
    },
    {
      "cell_type": "markdown",
      "source": [
        "# An eigenvalue algorithm\n",
        "\n",
        "$$\n",
        "\\newcommand{\\eg}{{\\it e.g.}}\n",
        "\\newcommand{\\ie}{{\\it i.e.}}\n",
        "\\newcommand{\\argmin}{\\operatornamewithlimits{argmin}}\n",
        "\\newcommand{\\mc}{\\mathcal}\n",
        "\\newcommand{\\mb}{\\mathbb}\n",
        "\\newcommand{\\mf}{\\mathbf}\n",
        "\\newcommand{\\minimize}{{\\text{minimize}}}\n",
        "\\newcommand{\\diag}{{\\text{diag}}}\n",
        "\\newcommand{\\cond}{{\\text{cond}}}\n",
        "\\newcommand{\\rank}{{\\text{rank }}}\n",
        "\\newcommand{\\range}{{\\mathcal{R}}}\n",
        "\\newcommand{\\null}{{\\mathcal{N}}}\n",
        "\\newcommand{\\tr}{{\\text{trace}}}\n",
        "\\newcommand{\\dom}{{\\text{dom}}}\n",
        "\\newcommand{\\dist}{{\\text{dist}}}\n",
        "\\newcommand{\\R}{\\mathbf{R}}\n",
        "\\newcommand{\\SM}{\\mathbf{S}}\n",
        "\\newcommand{\\ball}{\\mathcal{B}}\n",
        "\\newcommand{\\bmat}[1]{\\begin{bmatrix}#1\\end{bmatrix}}\n",
        "\\newcommand{\\loss}{\\ell}\n",
        "\\newcommand{\\eloss}{\\mc{L}}\n",
        "\\newcommand{\\abs}[1]{| #1 |}\n",
        "\\newcommand{\\norm}[1]{\\| #1 \\|}\n",
        "\\newcommand{\\tp}{T}\n",
        "$$"
      ],
      "metadata": {
        "id": "EleoU1xyfPSK"
      }
    },
    {
      "cell_type": "markdown",
      "source": [
        "__<div style=\"text-align: right\"> ASE3001: Computational Experiments for Aerospace Engineering, Inha University. </div>__\n",
        "_<div style=\"text-align: right\"> Jong-Han Kim (jonghank@inha.ac.kr) </div>_"
      ],
      "metadata": {
        "id": "9p8jTEehfbPH"
      }
    },
    {
      "cell_type": "markdown",
      "source": [
        "<br>\n",
        "\n",
        "---\n",
        "\n",
        "We explore an eigenvalue algorithm: given a diagonalizable matrix\n",
        "${\\displaystyle A}$, the algorithm will produce a number\n",
        "${\\displaystyle \\lambda }$, which is the greatest (in absolute value) eigenvalue of ${\\displaystyle A}$, and a nonzero vector ${\\displaystyle v}$, which is a corresponding eigenvector of ${\\displaystyle \\lambda }$, that is,\n",
        "${\\displaystyle Av=\\lambda v}$."
      ],
      "metadata": {
        "id": "A-oPFYoAfkls"
      }
    },
    {
      "cell_type": "markdown",
      "source": [
        "<br>\n",
        "\n",
        "The algorithm starts with a vector\n",
        "${\\displaystyle q_{0}}$, which may be an approximation to the dominant eigenvector or a random vector. The method is described by the recurrence relation\n",
        "\n",
        "$${\\displaystyle q_{k+1}={\\frac {A q_{k}}{\\|A q_{k}\\|}}}$$\n",
        "\n",
        "So, at every iteration, the vector\n",
        "${\\displaystyle q_{k}}$ is multiplied by the matrix\n",
        "${\\displaystyle A}$ and normalized.\n",
        "\n",
        "If we assume\n",
        "${\\displaystyle A}$ has an eigenvalue that is strictly greater in magnitude than its other eigenvalues and the starting vector\n",
        "${\\displaystyle q_{0}}$ has a nonzero component in the direction of an eigenvector associated with the dominant eigenvalue, then a subsequence\n",
        "${\\displaystyle \\left(q_{k}\\right)}$ converges to an eigenvector associated with the dominant eigenvalue.\n",
        "\n",
        "<br>\n",
        "\n",
        "Under the two assumptions listed above, the sequence\n",
        "${\\displaystyle \\left(\\rho _{k}\\right)}$ defined by\n",
        "\n",
        "$${\\displaystyle \\rho_{k}={\\frac {q_{k}^{T}A q_{k}}{q_{k}^{T}q_{k}}}}$$\n",
        "\n",
        "converges to the dominant eigenvalue."
      ],
      "metadata": {
        "id": "x8WHHnwJgXEP"
      }
    },
    {
      "cell_type": "code",
      "source": [
        "import numpy as np\n",
        "\n",
        "np.random.seed(3001)\n",
        "A = np.random.randn(100,100)\n",
        "A = A.T@A\n"
      ],
      "metadata": {
        "id": "i9yKUj78c8m_"
      },
      "execution_count": 125,
      "outputs": []
    },
    {
      "cell_type": "markdown",
      "source": [
        "<br>\n",
        "\n",
        "___\n",
        "\n",
        "<br>\n",
        "\n",
        "**(Problem 1)** Define a function `ase3001_ev_algorithm()` that receives a symmetric matrix $A$ and returns the largest eigenvalue of $A$. Repeat the algorithm until,\n",
        "\n",
        "$$\n",
        "  \\epsilon_{k+1} = | \\rho_{k+1}- \\rho_k | \\le 10^{-6}.\n",
        "$$\n",
        "\n",
        "Report the largest eigenvalue of $A$, and the number of iterations required. Check how rapidly $e_k$ diminishes in a $\\log_{10}$ scale plot."
      ],
      "metadata": {
        "id": "pDXDK4z6jm4k"
      }
    },
    {
      "cell_type": "code",
      "source": [
        "# your code here\n",
        "def ase3001_ev_algorithm(A,q_0):\n",
        "  q = q_0\n",
        "  eigen_before=(1/np.linalg.norm(q))*(q.T @ A @ q)\n",
        "  e=10\n",
        "  while e> 10**(-8):\n",
        "    q_after=A@q/(np.linalg.norm(A@q))\n",
        "    eigen_after=(q_after.T @A@q_after)/(np.linalg.norm(q_after))\n",
        "    e= np.abs(eigen_after-eigen_before)\n",
        "    eigen_before= eigen_after\n",
        "    q=q_after\n",
        "  return eigen_after,q\n",
        "ase3001_ev_algorithm(A,np.random.randn(len(A)))\n"
      ],
      "metadata": {
        "id": "IYNoTkXTL5SL",
        "colab": {
          "base_uri": "https://localhost:8080/"
        },
        "outputId": "0c4134c1-ff53-4afd-b48c-219edb3b4b55"
      },
      "execution_count": 126,
      "outputs": [
        {
          "output_type": "execute_result",
          "data": {
            "text/plain": [
              "(395.8850456364209,\n",
              " array([ 0.00989336,  0.15390294,  0.12815417,  0.15477063,  0.08687712,\n",
              "        -0.15323645,  0.02613629, -0.20228552, -0.02576476,  0.11635868,\n",
              "        -0.04718815,  0.0325772 , -0.14432887,  0.05468906, -0.22537753,\n",
              "        -0.03696944,  0.09011418, -0.01915948, -0.26128682, -0.09895484,\n",
              "         0.06228118, -0.12825106,  0.04466706, -0.18922434,  0.04820061,\n",
              "        -0.00225162,  0.04874772, -0.07422261,  0.13012411, -0.10561283,\n",
              "         0.0729103 , -0.14099697,  0.03239518,  0.17586675, -0.05070282,\n",
              "        -0.0355416 , -0.00354974,  0.1636163 ,  0.03315456,  0.19038603,\n",
              "         0.12358506, -0.05760175,  0.07361514,  0.03337603,  0.04215508,\n",
              "         0.08410941, -0.02011525,  0.14268904,  0.17454445, -0.00330313,\n",
              "        -0.05622213,  0.02482506,  0.05727565, -0.10698053, -0.04044834,\n",
              "        -0.08700957,  0.01767916, -0.04619074,  0.13353559, -0.05233629,\n",
              "         0.05663711, -0.04879983, -0.08693551, -0.04078851,  0.05849137,\n",
              "        -0.20510829, -0.10913408, -0.0706132 , -0.02463519,  0.04192139,\n",
              "        -0.00605488,  0.11071562,  0.10294829, -0.00867191, -0.02053048,\n",
              "         0.03052781, -0.05358469, -0.1107656 , -0.06598685,  0.07622015,\n",
              "        -0.11299686, -0.1809846 ,  0.07866844, -0.12976933,  0.06122584,\n",
              "        -0.09636096, -0.02090562, -0.05027668, -0.03002288, -0.07378195,\n",
              "         0.0310391 ,  0.02656067,  0.08713041, -0.12198338,  0.08224906,\n",
              "        -0.22240554,  0.04167623, -0.11446   ,  0.08674111, -0.05344511]))"
            ]
          },
          "metadata": {},
          "execution_count": 126
        }
      ]
    },
    {
      "cell_type": "markdown",
      "source": [
        "<br>\n",
        "\n",
        "___\n",
        "\n",
        "<br>\n",
        "\n",
        "**(Problem 2)** Use `ase3001_ev_algorithm()` to find all eigenvalues of $A$. Report all eigenvalues of $A$ and check if your answer is correct.\n",
        "\n"
      ],
      "metadata": {
        "id": "ok4TV30NmuIg"
      }
    },
    {
      "cell_type": "code",
      "source": [
        "np.linalg.eigh(A)"
      ],
      "metadata": {
        "colab": {
          "base_uri": "https://localhost:8080/"
        },
        "id": "KckXtrwurC6V",
        "outputId": "f51bf085-2b2c-4b5d-8858-2e8b9cb38def"
      },
      "execution_count": 127,
      "outputs": [
        {
          "output_type": "execute_result",
          "data": {
            "text/plain": [
              "EighResult(eigenvalues=array([1.22042046e-03, 5.41152548e-02, 8.00060141e-02, 2.09627375e-01,\n",
              "       5.17968803e-01, 6.98496478e-01, 1.02894863e+00, 1.15711959e+00,\n",
              "       1.66394653e+00, 2.56169650e+00, 2.68227294e+00, 3.10372577e+00,\n",
              "       4.02381614e+00, 4.74095597e+00, 5.66046396e+00, 6.52218612e+00,\n",
              "       6.84968426e+00, 7.23991650e+00, 8.54678214e+00, 8.63070982e+00,\n",
              "       1.07635401e+01, 1.13643576e+01, 1.19881339e+01, 1.51870247e+01,\n",
              "       1.58105728e+01, 1.59136752e+01, 1.77997560e+01, 1.99680389e+01,\n",
              "       2.13638085e+01, 2.24045416e+01, 2.40715446e+01, 2.61089570e+01,\n",
              "       2.75422942e+01, 2.90656355e+01, 3.00791891e+01, 3.04386758e+01,\n",
              "       3.48135495e+01, 3.71896906e+01, 3.75051370e+01, 3.82235566e+01,\n",
              "       4.06244386e+01, 4.31860389e+01, 4.60795370e+01, 4.67979973e+01,\n",
              "       5.15499556e+01, 5.21239750e+01, 5.85019225e+01, 6.12308189e+01,\n",
              "       6.30816133e+01, 6.41913196e+01, 6.54076891e+01, 7.15761639e+01,\n",
              "       7.41711952e+01, 7.52356666e+01, 7.76353749e+01, 8.15401259e+01,\n",
              "       8.45146752e+01, 8.69347827e+01, 9.00062363e+01, 9.16780185e+01,\n",
              "       9.85655564e+01, 1.04791410e+02, 1.06403864e+02, 1.12018209e+02,\n",
              "       1.12917882e+02, 1.21528851e+02, 1.24044724e+02, 1.28912444e+02,\n",
              "       1.31684889e+02, 1.34865065e+02, 1.39577572e+02, 1.43274267e+02,\n",
              "       1.44676760e+02, 1.50099724e+02, 1.53227381e+02, 1.64711133e+02,\n",
              "       1.69660245e+02, 1.76432003e+02, 1.78476566e+02, 1.86809110e+02,\n",
              "       1.91865341e+02, 1.99066256e+02, 2.01972644e+02, 2.07480240e+02,\n",
              "       2.14208307e+02, 2.16229614e+02, 2.24566780e+02, 2.29355754e+02,\n",
              "       2.41083676e+02, 2.48695013e+02, 2.62639549e+02, 2.79614414e+02,\n",
              "       2.84166721e+02, 2.93836624e+02, 3.01674388e+02, 3.15798044e+02,\n",
              "       3.33049534e+02, 3.46071630e+02, 3.53574473e+02, 3.95885046e+02]), eigenvectors=array([[ 0.04743323, -0.0790127 , -0.00502374, ..., -0.03089721,\n",
              "         0.08025393, -0.00989572],\n",
              "       [ 0.06891089,  0.0310086 , -0.04669345, ..., -0.07669778,\n",
              "         0.16150726, -0.15390771],\n",
              "       [ 0.03753696,  0.01674422,  0.09826929, ..., -0.08106394,\n",
              "         0.07006489, -0.12815634],\n",
              "       ...,\n",
              "       [ 0.13508266,  0.04461998, -0.06791549, ...,  0.0712747 ,\n",
              "         0.0009916 ,  0.11446013],\n",
              "       [ 0.04297215,  0.11578005,  0.14993116, ...,  0.25176539,\n",
              "        -0.1585987 , -0.08673605],\n",
              "       [ 0.33989886, -0.02862013, -0.15724366, ..., -0.02224351,\n",
              "        -0.24428146,  0.05345199]]))"
            ]
          },
          "metadata": {},
          "execution_count": 127
        }
      ]
    },
    {
      "cell_type": "code",
      "source": [
        "# your code here\n",
        "sum_A=A.copy()\n",
        "q_c= np.random.rand(len(A))\n",
        "eigens=[]\n",
        "for i in range(len(A)):\n",
        "  eigen_c, q_c = ase3001_ev_algorithm(sum_A,q_c)\n",
        "  eigens.append(eigen_c)\n",
        "  sum_A= sum_A- eigen_c *np.outer(q_c,q_c)\n"
      ],
      "metadata": {
        "id": "MjlRd0ycxnFH"
      },
      "execution_count": 128,
      "outputs": []
    },
    {
      "cell_type": "code",
      "source": [
        "print(np.array(sorted(eigens))-np.linalg.eigh(A)[0])"
      ],
      "metadata": {
        "id": "HPnb6spntIRU",
        "outputId": "3b2f72bf-d0f8-471b-f83d-2e676f013c02",
        "colab": {
          "base_uri": "https://localhost:8080/"
        }
      },
      "execution_count": 129,
      "outputs": [
        {
          "output_type": "stream",
          "name": "stdout",
          "text": [
            "[-1.22042341e-03  9.16389081e-09 -6.17036386e-09  3.30018890e-09\n",
            "  1.93591365e-09 -2.42912124e-09  3.83111529e-08 -2.56048143e-08\n",
            " -5.88420446e-09  1.02451785e-07 -6.61575994e-08 -2.73810743e-08\n",
            "  7.08133108e-10  2.49135592e-08 -2.13418607e-08  1.31373930e-07\n",
            " -7.28677758e-08 -4.94003540e-08  5.08970585e-07 -5.03950911e-07\n",
            "  9.08882196e-08  1.06851061e-09 -6.67736639e-08 -1.20256693e-08\n",
            "  7.83977493e-07 -7.36278874e-07 -3.69777204e-08 -1.40263623e-09\n",
            "  9.85667512e-08 -7.39709236e-08  4.06059719e-08  2.98942702e-08\n",
            " -8.00351749e-08  1.26844029e-07  2.92846053e-07 -3.78774466e-07\n",
            " -2.74779026e-08  5.96071935e-07 -3.37536463e-07 -1.73615540e-07\n",
            "  6.64948629e-09 -7.27049425e-08  3.14030743e-07 -3.08986444e-07\n",
            "  4.48742888e-07 -4.06726812e-07  6.85377231e-08 -9.44643048e-08\n",
            "  2.76871894e-07 -1.38180667e-08 -2.53997570e-07  1.40031077e-07\n",
            "  2.11728874e-07 -1.89814173e-07 -1.46848862e-07  1.32491650e-07\n",
            " -1.27465341e-07 -2.47122500e-09  2.80612866e-07 -2.12291894e-07\n",
            " -5.88639324e-08  3.24798137e-07 -3.19875454e-07  6.18234353e-07\n",
            " -6.13307847e-07  2.35441078e-07 -2.30435404e-07  7.20986293e-08\n",
            "  2.00631689e-07 -2.01616757e-07 -6.11618134e-08  5.08885506e-07\n",
            " -3.69853211e-07  1.11067095e-07 -2.31504401e-07  1.67456761e-07\n",
            " -1.51550779e-07  5.06358987e-07 -4.07349262e-07 -4.14259205e-08\n",
            " -3.78834102e-08  3.50583633e-07 -2.38118332e-07 -1.23953555e-07\n",
            "  5.28608552e-07 -3.83148375e-07  7.31597822e-08 -2.04511906e-07\n",
            "  1.70900364e-07 -8.69789858e-08 -7.45133093e-08  3.03448701e-07\n",
            " -2.98587224e-07  1.88542742e-07 -7.76272486e-08 -7.69938424e-09\n",
            " -8.87099532e-08  2.62391495e-07 -2.23660265e-07 -2.96351459e-08]\n"
          ]
        }
      ]
    }
  ]
}